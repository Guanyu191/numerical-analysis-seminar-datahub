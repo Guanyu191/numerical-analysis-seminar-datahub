{
 "cells": [
  {
   "cell_type": "markdown",
   "id": "f26c3242-534e-4906-8b12-c262f7f0045f",
   "metadata": {},
   "source": [
    "### 3"
   ]
  },
  {
   "cell_type": "code",
   "execution_count": 2,
   "id": "07a3d658-e942-4629-bfc6-9fa1fa7ce868",
   "metadata": {},
   "outputs": [
    {
     "name": "stdout",
     "output_type": "stream",
     "text": [
      "p = 3.1415926520961532\n",
      "absolute accuracy = 1.493639878447084e-09\n",
      "relative accuracy = 4.754403397080622e-10\n",
      "Number of accurate digits = 9.322903972440903\n"
     ]
    }
   ],
   "source": [
    "import numpy as np\n",
    "# p = 22 / 7\n",
    "# p = 355/113\n",
    "p = 103638/32989\n",
    "print(f\"p = {p}\")\n",
    "\n",
    "acc = abs(p - np.pi)\n",
    "relative_acc = acc / np.pi\n",
    "print(f\"absolute accuracy = {acc}\")\n",
    "print(f\"relative accuracy = {relative_acc}\")\n",
    "\n",
    "num_accurate_digits = -np.log10(acc / np.pi)\n",
    "print(f\"Number of accurate digits = {num_accurate_digits}\")"
   ]
  }
 ],
 "metadata": {
  "kernelspec": {
   "display_name": "Python 3 (ipykernel)",
   "language": "python",
   "name": "python3"
  },
  "language_info": {
   "codemirror_mode": {
    "name": "ipython",
    "version": 3
   },
   "file_extension": ".py",
   "mimetype": "text/x-python",
   "name": "python",
   "nbconvert_exporter": "python",
   "pygments_lexer": "ipython3",
   "version": "3.12.4"
  }
 },
 "nbformat": 4,
 "nbformat_minor": 5
}

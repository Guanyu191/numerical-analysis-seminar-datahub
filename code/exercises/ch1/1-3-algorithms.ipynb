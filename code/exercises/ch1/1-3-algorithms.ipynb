{
 "cells": [
  {
   "cell_type": "markdown",
   "id": "1fd0dfb4-e24b-424a-9564-f59f8a28cc76",
   "metadata": {},
   "source": [
    "### 1"
   ]
  },
  {
   "cell_type": "code",
   "execution_count": 2,
   "id": "69b51b17-c6cc-442f-85f0-c988fea7ee3a",
   "metadata": {},
   "outputs": [
    {
     "name": "stdout",
     "output_type": "stream",
     "text": [
      "r(x) = -1\n",
      "s(x) = 3\n"
     ]
    }
   ],
   "source": [
    "def poly1(p, x=-1):\n",
    "    result = 0\n",
    "    for i, coefficient in enumerate(p):\n",
    "        result += coefficient * (x) ** i\n",
    "    return result\n",
    "\n",
    "r = [1, -1, 0, 3]\n",
    "print(f\"r(x) = {poly1(r)}\")\n",
    "\n",
    "s = [0, -1, 2]\n",
    "print(f\"s(x) = {poly1(s)}\")"
   ]
  },
  {
   "cell_type": "markdown",
   "id": "dff5d32f-1362-4c26-bc05-719211566130",
   "metadata": {},
   "source": [
    "### 2"
   ]
  },
  {
   "cell_type": "code",
   "execution_count": 4,
   "id": "8ea65f59-1441-4cf8-af0a-1729d82f3ec4",
   "metadata": {},
   "outputs": [
    {
     "name": "stdout",
     "output_type": "stream",
     "text": [
      "The variance of the ones - vector (Ours): 0.0\n",
      "The variance of the ones - vector (NumPy): 0.0\n",
      "The variance of the random - vector (Ours): 0.08066183597847082\n",
      "The variance of the random - vector (NumPy): 0.08066183597847082\n"
     ]
    }
   ],
   "source": [
    "import numpy as np\n",
    "\n",
    "def samplevar(x):\n",
    "    n = len(x)\n",
    "    mean_x = np.mean(x)\n",
    "    variance = np.sum((x - mean_x) ** 2) / (n - 1)\n",
    "    return variance\n",
    "\n",
    "# Test case 1: A vector of ones with length 100\n",
    "test_ones = np.ones(100)\n",
    "our_result_ones = samplevar(test_ones)\n",
    "numpy_result_ones = np.var(test_ones, ddof=1)\n",
    "print(\"The variance of the ones - vector (Ours):\", our_result_ones)\n",
    "print(\"The variance of the ones - vector (NumPy):\", numpy_result_ones)\n",
    "\n",
    "# Test case 2: A random vector with length 200\n",
    "test_rand = np.random.rand(200)\n",
    "our_result_rand = samplevar(test_rand)\n",
    "numpy_result_rand = np.var(test_rand, ddof=1)\n",
    "print(\"The variance of the random - vector (Ours):\", our_result_rand)\n",
    "print(\"The variance of the random - vector (NumPy):\", numpy_result_rand)"
   ]
  },
  {
   "cell_type": "markdown",
   "id": "36529561-bb17-4cf6-91a6-01b27d8860cc",
   "metadata": {},
   "source": [
    "### 3"
   ]
  },
  {
   "cell_type": "code",
   "execution_count": 6,
   "id": "4b8cc7f7-868d-4e05-9292-89a3d0f614d5",
   "metadata": {},
   "outputs": [
    {
     "name": "stdout",
     "output_type": "stream",
     "text": [
      "area of square: 1.0\n",
      "area of equilateral triangle: 0.4330127018922193\n"
     ]
    }
   ],
   "source": [
    "import numpy as np\n",
    "\n",
    "def polygonarea(x, y):\n",
    "    n = len(x)\n",
    "    area = 0\n",
    "    for k in range(n):\n",
    "        k_next = (k + 1) % n\n",
    "        area += x[k] * y[k_next] - x[k_next] * y[k]\n",
    "    area = 0.5 * abs(area)\n",
    "    return area\n",
    "\n",
    "# square (0,0), (0,1), (1,1), (1,0)\n",
    "x_square = np.array([0, 0, 1, 1])\n",
    "y_square = np.array([0, 1, 1, 0])\n",
    "square_area = polygonarea(x_square, y_square)\n",
    "print(\"area of square:\", square_area)\n",
    "\n",
    "# equilateral triangle (0, 0), (1, 0), (0.5, np.sqrt(3) / 2)\n",
    "x_triangle = np.array([0, 1, 0.5])\n",
    "y_triangle = np.array([0, 0, np.sqrt(3) / 2])\n",
    "triangle_area = polygonarea(x_triangle, y_triangle)\n",
    "print(\"area of equilateral triangle:\", triangle_area)"
   ]
  }
 ],
 "metadata": {
  "kernelspec": {
   "display_name": "Python 3 (ipykernel)",
   "language": "python",
   "name": "python3"
  },
  "language_info": {
   "codemirror_mode": {
    "name": "ipython",
    "version": 3
   },
   "file_extension": ".py",
   "mimetype": "text/x-python",
   "name": "python",
   "nbconvert_exporter": "python",
   "pygments_lexer": "ipython3",
   "version": "3.12.4"
  }
 },
 "nbformat": 4,
 "nbformat_minor": 5
}

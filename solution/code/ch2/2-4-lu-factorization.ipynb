{
 "cells": [
  {
   "cell_type": "code",
   "execution_count": 142,
   "id": "a38e5cc3-46ad-403e-91c6-1bc2d96c6cc8",
   "metadata": {},
   "outputs": [],
   "source": [
    "from scipy import *\n",
    "from matplotlib.pyplot import *\n",
    "from scipy.linalg import *\n",
    "from numpy.linalg import *\n",
    "import scipy.sparse as sparse\n",
    "import numpy as np\n",
    "from scipy.sparse.linalg import splu\n",
    "from timeit import default_timer as timer"
   ]
  },
  {
   "cell_type": "markdown",
   "id": "ab8bf397",
   "metadata": {},
   "source": [
    "# T2"
   ]
  },
  {
   "cell_type": "code",
   "execution_count": 143,
   "id": "07bfb9ea",
   "metadata": {},
   "outputs": [],
   "source": [
    "def lufact(A):\n",
    "\t\"\"\"\n",
    "\tlufact(A)\n",
    "\n",
    "\tCompute the LU factorization of square matrix A, returning the factors.\n",
    "\t\"\"\"\n",
    "\tn = A.shape[0]\n",
    "\tL = np.eye(n)\n",
    "\tU = A.copy()\n",
    "\n",
    "\t# Gaussian elimination\n",
    "\tfor j in range(n-1):\n",
    "\t\tfor i in range(j+1,n):\n",
    "\t\t\tL[i,j] = U[i,j] / U[j,j]   # row multiplier\n",
    "\t\t\tU[i,j:] = U[i,j:] - L[i,j]*U[j,j:]\n",
    "\treturn L, np.triu(U)\n",
    "\n",
    "def forwardsub(L,b):\n",
    "\t\"\"\"\n",
    " \tforwardsub(L,b)\n",
    "\n",
    "\tSolve the lower-triangular linear system with matrix L and right-hand side\n",
    "\tvector b.\n",
    "\t\"\"\"\n",
    "\tn = len(b)\n",
    "\tx = np.zeros(n)\n",
    "\tfor i in range(n):\n",
    "\t\ts = L[i,:i] @ x[:i]\n",
    "\t\tx[i] = ( b[i] - s ) / L[i,i]\n",
    "\treturn x\n",
    "\n",
    "\n",
    "def backsub(U,b):\n",
    "\t\"\"\"\n",
    "\tbacksub(U,b)\n",
    "\n",
    "\tSolve the upper-triangular linear system with matrix U and right-hand side\n",
    "\tvector b.\n",
    "\t\"\"\"\n",
    "\tn = len(b)\n",
    "\tx = np.zeros(n)\n",
    "\tfor i in range(n-1,-1,-1):\n",
    "\t\ts = U[i,i+1:] @ x[i+1:]\n",
    "\t\tx[i] = ( b[i] - s ) / U[i,i]\n",
    "\treturn x\n",
    "\n",
    "\n",
    "    \n",
    "\n",
    "def matrix_T(x, y):\n",
    "    T = np.array([[1,0,0], [0, 1, 0], [x, y, 1]])\n",
    "    return T\n",
    "\n",
    "def matrix_R(theta):\n",
    "    R = np.array([[np.cos(theta), np.sin(theta), 0],\n",
    "                  [-np.sin(theta), np.cos(theta), 0],\n",
    "                 [0, 0, 1]])\n",
    "    return R"
   ]
  },
  {
   "cell_type": "code",
   "execution_count": 144,
   "id": "3fcef84d",
   "metadata": {},
   "outputs": [],
   "source": [
    "A = matrix_T(3, -1)@matrix_R(np.pi/5)@matrix_T(-3, 1)\n",
    "z = np.array([2, 2, 1])"
   ]
  },
  {
   "cell_type": "code",
   "execution_count": 145,
   "id": "c15e0cf7",
   "metadata": {},
   "outputs": [
    {
     "data": {
      "text/plain": [
       "array([[ 0.80901699,  0.58778525,  0.        ],\n",
       "       [-0.58778525,  0.80901699,  0.        ],\n",
       "       [ 0.01483624,  1.95433876,  1.        ]])"
      ]
     },
     "execution_count": 145,
     "metadata": {},
     "output_type": "execute_result"
    }
   ],
   "source": [
    "A"
   ]
  },
  {
   "cell_type": "code",
   "execution_count": 146,
   "id": "af834366",
   "metadata": {},
   "outputs": [
    {
     "name": "stdout",
     "output_type": "stream",
     "text": [
      "b =  [2.79360449 0.44246348 4.93835   ]\n"
     ]
    }
   ],
   "source": [
    "## T2 (a)\n",
    "b = A@z\n",
    "print(\"b = \", b)"
   ]
  },
  {
   "cell_type": "code",
   "execution_count": 147,
   "id": "dbe3a634",
   "metadata": {},
   "outputs": [
    {
     "name": "stdout",
     "output_type": "stream",
     "text": [
      "L= [[ 1.          0.          0.        ]\n",
      " [-0.72654253  1.          0.        ]\n",
      " [ 0.0183386   1.57237275  1.        ]]\n",
      "U= [[0.80901699 0.58778525 0.        ]\n",
      " [0.         1.23606798 0.        ]\n",
      " [0.         0.         1.        ]]\n"
     ]
    }
   ],
   "source": [
    "## T2 (b)\n",
    "L,U = lufact(A)\n",
    "print(\"L=\",L)\n",
    "print(\"U=\",U)"
   ]
  },
  {
   "cell_type": "code",
   "execution_count": 148,
   "id": "a67a50be",
   "metadata": {},
   "outputs": [
    {
     "name": "stdout",
     "output_type": "stream",
     "text": [
      "x - z =  [0. 0. 0.]\n"
     ]
    }
   ],
   "source": [
    "## T2 (b)\n",
    "y = forwardsub(L,b)\n",
    "x = backsub(U,y)\n",
    "print(\"x - z = \", x-z)"
   ]
  },
  {
   "cell_type": "markdown",
   "id": "5582e066-5141-4078-a464-54e8639b8ee7",
   "metadata": {},
   "source": [
    "# T3"
   ]
  },
  {
   "cell_type": "code",
   "execution_count": 149,
   "id": "676b317f-6d1c-4444-9322-c85ea087198f",
   "metadata": {},
   "outputs": [
    {
     "name": "stdout",
     "output_type": "stream",
     "text": [
      "x [0.         0.33325195 0.66674805 1.         1.33333333]\n",
      "x - x_hat =  [ 0.00000000e+00 -8.13802083e-05  8.13802083e-05  0.00000000e+00\n",
      "  0.00000000e+00]\n"
     ]
    }
   ],
   "source": [
    "## T3 (a)\n",
    "A = np.array([[1,0,0,0,1e12],[1,1,0,0,0], [0,1,1,0,0],[0,0,1,1,0], [0,0,0,1,0]])\n",
    "x_hat = np.array([0, 1/3, 2/3, 1, 4/3])\n",
    "b = A @ x_hat\n",
    "L,U = lufact(A)\n",
    "y = forwardsub(L,b)\n",
    "x = backsub(U,y)\n",
    "print(\"x\", x)\n",
    "print(\"x - x_hat = \", x-x_hat)"
   ]
  },
  {
   "cell_type": "code",
   "execution_count": 150,
   "id": "a0f9c5d2-993c-4f0c-8cf9-000f46a7780f",
   "metadata": {},
   "outputs": [
    {
     "name": "stdout",
     "output_type": "stream",
     "text": [
      "x [0.00000000e+00 3.33251953e-01 6.66748047e-01 1.00000000e+00\n",
      " 1.33333333e-08]\n",
      "x - x_hat =  [ 0.00000000e+00 -8.13802083e-05  8.13802083e-05  0.00000000e+00\n",
      " -1.33333332e+00]\n"
     ]
    }
   ],
   "source": [
    "## T3 (b)\n",
    "A[0, 4] = 1e20\n",
    "L,U = lufact(A)\n",
    "y = forwardsub(L,b)\n",
    "x = backsub(U,y)\n",
    "print(\"x\", x)\n",
    "print(\"x - x_hat = \", x-x_hat)"
   ]
  },
  {
   "cell_type": "markdown",
   "id": "a8b6bc88-1fcd-46e5-a65b-8c40e63a20ce",
   "metadata": {},
   "source": [
    "# T4"
   ]
  },
  {
   "cell_type": "code",
   "execution_count": 151,
   "id": "4037b9cc-c3af-4059-889d-538595153fc3",
   "metadata": {},
   "outputs": [
    {
     "name": "stdout",
     "output_type": "stream",
     "text": [
      "L [[ 1.  0.  0.  0.  0.  0.]\n",
      " [ 0.  1.  0.  0.  0.  0.]\n",
      " [ 0.  0.  1.  0.  0.  0.]\n",
      " [ 1. -1.  1.  1.  0.  0.]\n",
      " [ 1.  0.  0.  1.  1.  0.]\n",
      " [ 0.  1.  0. -0.  1.  1.]]\n",
      "U [[ 1  1  0  1  0  0]\n",
      " [ 0  1  1  0  1  0]\n",
      " [ 0  0  1  1  0  1]\n",
      " [ 0  0  0 -1  2 -1]\n",
      " [ 0  0  0  0 -1  2]\n",
      " [ 0  0  0  0  0 -1]]\n",
      "inverse of L [[ 1.  0.  0.  0.  0.  0.]\n",
      " [ 0.  1.  0.  0.  0.  0.]\n",
      " [ 0.  0.  1.  0.  0.  0.]\n",
      " [-1.  1. -1.  1.  0.  0.]\n",
      " [ 0. -1.  1. -1.  1.  0.]\n",
      " [ 0.  0. -1.  1. -1.  1.]]\n",
      "inverse of U [[ 1. -1.  1.  2.  3.  5.]\n",
      " [ 0.  1. -1. -1. -1. -2.]\n",
      " [ 0.  0.  1.  1.  2.  4.]\n",
      " [-0. -0. -0. -1. -2. -3.]\n",
      " [-0. -0. -0. -0. -1. -2.]\n",
      " [-0. -0. -0. -0. -0. -1.]]\n"
     ]
    }
   ],
   "source": [
    "## T4\n",
    "A = np.array([[1,1,0,1,0,0], [0,1,1,0,1,0], [0,0,1,1,0,1], [1,0,0,1,1,0], [1,1,0,0,1,1], [0,1,1,0,0,1]])\n",
    "L, U = lufact(A)\n",
    "L_inv = inv(L)\n",
    "U_inv = inv(U)\n",
    "print(\"L\", L)\n",
    "print(\"U\", U)\n",
    "print(\"inverse of L\", L_inv)\n",
    "print(\"inverse of U\", U_inv)"
   ]
  },
  {
   "cell_type": "markdown",
   "id": "5ab362b9-4ffd-4535-bdc3-56e5e64303f9",
   "metadata": {},
   "source": [
    "# T5"
   ]
  },
  {
   "cell_type": "code",
   "execution_count": 152,
   "id": "d605f093-d1b7-4c79-a3d8-bcca9ee5436d",
   "metadata": {},
   "outputs": [],
   "source": [
    "## T5\n",
    "def lufact2(A):\n",
    "    B = A.T\n",
    "    L, U = lufact(B)\n",
    "    return U.T, L.T"
   ]
  },
  {
   "cell_type": "code",
   "execution_count": 153,
   "id": "77586876-b9bd-40be-a94e-5b83594e262a",
   "metadata": {},
   "outputs": [],
   "source": [
    "A = np.array([[6,-2,-4,4], [3, -3, -6, 1], [-12, 8, 21, -8], [-6, 0, -10, 7]])"
   ]
  },
  {
   "cell_type": "code",
   "execution_count": 154,
   "id": "598406b8-b022-41fd-ad97-d866387ed17c",
   "metadata": {},
   "outputs": [
    {
     "name": "stdout",
     "output_type": "stream",
     "text": [
      "A =  [[  6  -2  -4   4]\n",
      " [  3  -3  -6   1]\n",
      " [-12   8  21  -8]\n",
      " [ -6   0 -10   7]]\n",
      "L =  [[ 1.   0.   0.   0. ]\n",
      " [ 0.5  1.   0.   0. ]\n",
      " [-2.  -2.   1.   0. ]\n",
      " [-1.   1.  -2.   1. ]]\n",
      "U =  [[ 6 -2 -4  4]\n",
      " [ 0 -2 -4 -1]\n",
      " [ 0  0  5 -2]\n",
      " [ 0  0  0  8]]\n",
      "Verification: LU =  [[  6.  -2.  -4.   4.]\n",
      " [  3.  -3.  -6.   1.]\n",
      " [-12.   8.  21.  -8.]\n",
      " [ -6.   0. -10.   7.]]\n",
      "L_new =  [[  6   0   0   0]\n",
      " [  3  -2   0   0]\n",
      " [-12   4   5   0]\n",
      " [ -6  -2 -10   8]]\n",
      "U_new =  [[ 1.         -0.33333333 -0.66666667  0.66666667]\n",
      " [ 0.          1.          2.          0.5       ]\n",
      " [ 0.          0.          1.         -0.4       ]\n",
      " [ 0.          0.          0.          1.        ]]\n",
      "Verification: L_new U_new =  [[  6.  -2.  -4.   4.]\n",
      " [  3.  -3.  -6.   1.]\n",
      " [-12.   8.  21.  -8.]\n",
      " [ -6.   0. -10.   7.]]\n"
     ]
    }
   ],
   "source": [
    "L, U = lufact(A)\n",
    "L_new, U_new = lufact2(A)\n",
    "print(\"A = \", A)\n",
    "print(\"L = \", L)\n",
    "print(\"U = \", U)\n",
    "print(\"Verification: LU = \", L@U)\n",
    "print(\"L_new = \", L_new)\n",
    "print(\"U_new = \", U_new)\n",
    "print(\"Verification: L_new U_new = \", L_new@U_new)"
   ]
  },
  {
   "cell_type": "markdown",
   "id": "10dfb3ce-23a9-464c-b05a-c4d1a7a6da9c",
   "metadata": {},
   "source": [
    "# T6 (b)"
   ]
  },
  {
   "cell_type": "code",
   "execution_count": 155,
   "id": "13ad3fcd-365f-41e9-a8f0-c360b6528053",
   "metadata": {},
   "outputs": [],
   "source": [
    "def determinant(A):\n",
    "    L, U = lufact(A)\n",
    "    n = A.shape[0]\n",
    "\n",
    "    det_value = 1.0\n",
    "    for i in range(n):\n",
    "        det_value = det_value * U[i, i]\n",
    "    return det_value"
   ]
  },
  {
   "cell_type": "code",
   "execution_count": 156,
   "id": "fb0a8802-5458-4da0-94bd-ecb2b9da8777",
   "metadata": {},
   "outputs": [],
   "source": [
    "A = np.random.rand(5, 5)"
   ]
  },
  {
   "cell_type": "code",
   "execution_count": 157,
   "id": "1036f451-72ae-456b-8153-dd2eb073a39c",
   "metadata": {},
   "outputs": [
    {
     "name": "stdout",
     "output_type": "stream",
     "text": [
      "determinant(A) =  0.014310691629020426\n",
      "det(A) =  0.014310691629020445\n",
      "determinant(A) - det(A) =  -1.9081958235744878e-17\n"
     ]
    }
   ],
   "source": [
    "print(\"determinant(A) = \", determinant(A))\n",
    "print(\"det(A) = \", det(A))\n",
    "print(\"determinant(A) - det(A) = \",  determinant(A) - det(A))"
   ]
  },
  {
   "cell_type": "code",
   "execution_count": null,
   "id": "5c2b532a-31bb-4224-9ead-5db259460866",
   "metadata": {},
   "outputs": [],
   "source": []
  }
 ],
 "metadata": {
  "kernelspec": {
   "display_name": "Python 3 (ipykernel)",
   "language": "python",
   "name": "python3"
  },
  "language_info": {
   "codemirror_mode": {
    "name": "ipython",
    "version": 3
   },
   "file_extension": ".py",
   "mimetype": "text/x-python",
   "name": "python",
   "nbconvert_exporter": "python",
   "pygments_lexer": "ipython3",
   "version": "3.13.2"
  }
 },
 "nbformat": 4,
 "nbformat_minor": 5
}

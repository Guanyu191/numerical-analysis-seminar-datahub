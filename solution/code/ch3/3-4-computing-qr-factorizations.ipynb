{
 "cells": [
  {
   "cell_type": "markdown",
   "id": "cb67ba80",
   "metadata": {},
   "source": [
    "### 1"
   ]
  },
  {
   "cell_type": "code",
   "execution_count": null,
   "id": "2b56c48d",
   "metadata": {},
   "outputs": [],
   "source": []
  },
  {
   "cell_type": "markdown",
   "id": "84a20b91",
   "metadata": {},
   "source": [
    "### 4"
   ]
  },
  {
   "cell_type": "code",
   "execution_count": 1,
   "id": "24aee9d8",
   "metadata": {},
   "outputs": [
    {
     "name": "stdout",
     "output_type": "stream",
     "text": [
      "unstable: \t [ 1.00000000e+00 -7.99277837e-11 -7.99277837e-11]\n",
      "stable: \t [-1.00000000e+00 -3.67788570e-23 -3.97046694e-23]\n",
      "\n",
      "unstable: \t [ 1.e+00 -1.e-08 -1.e-08]\n",
      "stable: \t [-1.e+00 -5.e-25  0.e+00]\n",
      "\n",
      "unstable: \t [ 1.e+00 -1.e-09 -1.e-09]\n",
      "stable: \t [-1.e+00 -5.e-28  0.e+00]\n",
      "\n",
      "unstable: \t [ 1.e+00 -1.e-10 -1.e-10]\n",
      "stable: \t [-1.e+00 -5.e-31  0.e+00]\n",
      "\n",
      "unstable: \t [ 1.e+00 -1.e-11 -1.e-11]\n",
      "stable: \t [-1.e+00 -5.e-34  0.e+00]\n",
      "\n"
     ]
    }
   ],
   "source": [
    "import numpy as np\n",
    "import matplotlib.pyplot as plt\n",
    "\n",
    "\n",
    "def Pz(v, z):\n",
    "    n = z.shape[0]\n",
    "    P = np.eye(n) - 2 * (v @ v.T)\n",
    "    return P @ z\n",
    "\n",
    "\"\"\"\n",
    "you can see that the digit is decreased when the z is close to e_1, \n",
    "but if we change the z to [-1, s, s] which is far from e_1, the digit will not be.\n",
    "see next cell.\n",
    "\"\"\"\n",
    "\n",
    "small_numbers = [10**i for i in range(-7, -12, -1)]\n",
    "for s in small_numbers:\n",
    "    # Define the vector z close to e1, which will cause cancellation\n",
    "    z = np.array([1, s, s]).reshape(-1, 1)\n",
    "    norm_z = np.linalg.norm(z)\n",
    "\n",
    "    # Compute w based on the formula in (3.4.4)\n",
    "    e_1 = np.array([1, 0, 0]).reshape(-1, 1)\n",
    "    w = norm_z * e_1 - z\n",
    "    norm_w = np.linalg.norm(w)\n",
    "    v = w / norm_w\n",
    "\n",
    "    print(\"unstable: \\t\", Pz(v, z).flatten())\n",
    "\n",
    "    # Compute w based on the line 12 of Function 3.4.4\n",
    "    e_1 = np.array([1, 0, 0])\n",
    "    w = np.concatenate([[-np.sign(z[0]) * norm_z - z[0]], -z[1:]])\n",
    "    norm_w = np.linalg.norm(w)\n",
    "    v = w / norm_w\n",
    "    print(\"stable: \\t\", Pz(v, z).flatten())\n",
    "    print()\n"
   ]
  },
  {
   "cell_type": "code",
   "execution_count": 2,
   "id": "8e52bd23",
   "metadata": {},
   "outputs": [
    {
     "name": "stdout",
     "output_type": "stream",
     "text": [
      "unstable: \t [ 1.00000000e+00 -3.67788570e-23 -3.97046694e-23]\n",
      "stable: \t [ 1.00000000e+00 -3.67788570e-23 -3.97046694e-23]\n",
      "\n",
      "unstable: \t [ 1.e+00 -5.e-25  0.e+00]\n",
      "stable: \t [ 1.e+00 -5.e-25  0.e+00]\n",
      "\n",
      "unstable: \t [ 1.e+00 -5.e-28  0.e+00]\n",
      "stable: \t [ 1.e+00 -5.e-28  0.e+00]\n",
      "\n",
      "unstable: \t [ 1.e+00 -5.e-31  0.e+00]\n",
      "stable: \t [ 1.e+00 -5.e-31  0.e+00]\n",
      "\n",
      "unstable: \t [ 1.e+00 -5.e-34  0.e+00]\n",
      "stable: \t [ 1.e+00 -5.e-34  0.e+00]\n",
      "\n"
     ]
    }
   ],
   "source": [
    "\"\"\"\n",
    "two algorithms is good when z is far from e1.\n",
    "\"\"\"\n",
    "\n",
    "small_numbers = [10**i for i in range(-7, -12, -1)]\n",
    "for s in small_numbers:\n",
    "    # Define the vector z close to e1, which will cause cancellation\n",
    "    z = np.array([-1, s, s]).reshape(-1, 1)\n",
    "    norm_z = np.linalg.norm(z)\n",
    "\n",
    "    # Compute w based on the formula in (3.4.4)\n",
    "    e_1 = np.array([1, 0, 0]).reshape(-1, 1)\n",
    "    w = norm_z * e_1 - z\n",
    "    norm_w = np.linalg.norm(w)\n",
    "    v = w / norm_w\n",
    "\n",
    "    print(\"unstable: \\t\", Pz(v, z).flatten())\n",
    "\n",
    "    # Compute w based on the line 12 of Function 3.4.4\n",
    "    e_1 = np.array([1, 0, 0])\n",
    "    w = np.concatenate([[-np.sign(z[0]) * norm_z - z[0]], -z[1:]])\n",
    "    norm_w = np.linalg.norm(w)\n",
    "    v = w / norm_w\n",
    "    print(\"stable: \\t\", Pz(v, z).flatten())\n",
    "    print()"
   ]
  },
  {
   "cell_type": "markdown",
   "id": "4b4b1809",
   "metadata": {},
   "source": [
    "### 7"
   ]
  },
  {
   "cell_type": "code",
   "execution_count": 3,
   "id": "edea5ef4",
   "metadata": {},
   "outputs": [
    {
     "name": "stdout",
     "output_type": "stream",
     "text": [
      "Transformed z: [7.41619849 0.         0.         0.         0.        ]\n"
     ]
    }
   ],
   "source": [
    "import numpy as np\n",
    "\n",
    "z = np.array([1, 2, 3, 4, 5], dtype=float)\n",
    "\n",
    "# Function to apply a Givens rotation on elements a and b\n",
    "def givens_rotation(a, b):\n",
    "    r = np.sqrt(a**2 + b**2)\n",
    "    c = a / r\n",
    "    s = -b / r\n",
    "    return c, s, r\n",
    "\n",
    "# Apply Givens rotations to transform z into [||z||, 0, 0, 0, 0]^T\n",
    "def apply_givens_rotation(z):\n",
    "    n = len(z)\n",
    "    for i in range(1, n):\n",
    "        a = z[0]\n",
    "        b = z[i]\n",
    "        \n",
    "        c, s, r = givens_rotation(a, b)\n",
    "        \n",
    "        z[0] = r\n",
    "        z[i] = 0\n",
    "            \n",
    "    return z\n",
    "\n",
    "z_transformed = apply_givens_rotation(z)\n",
    "print(\"Transformed z:\", z_transformed)\n"
   ]
  },
  {
   "cell_type": "code",
   "execution_count": null,
   "id": "28bb19c9",
   "metadata": {},
   "outputs": [],
   "source": []
  }
 ],
 "metadata": {
  "kernelspec": {
   "display_name": "torch",
   "language": "python",
   "name": "python3"
  },
  "language_info": {
   "codemirror_mode": {
    "name": "ipython",
    "version": 3
   },
   "file_extension": ".py",
   "mimetype": "text/x-python",
   "name": "python",
   "nbconvert_exporter": "python",
   "pygments_lexer": "ipython3",
   "version": "3.9.19"
  }
 },
 "nbformat": 4,
 "nbformat_minor": 5
}

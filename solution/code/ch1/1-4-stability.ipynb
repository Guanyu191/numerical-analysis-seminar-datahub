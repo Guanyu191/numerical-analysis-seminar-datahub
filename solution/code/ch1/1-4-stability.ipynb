{
 "cells": [
  {
   "cell_type": "markdown",
   "id": "783cbfdc-46bb-4dda-b6fe-6eee454489c4",
   "metadata": {},
   "source": [
    "### 1"
   ]
  },
  {
   "cell_type": "code",
   "execution_count": 2,
   "id": "c22b19ca-7b1d-4296-8bd1-1172c749ae26",
   "metadata": {},
   "outputs": [
    {
     "name": "stdout",
     "output_type": "stream",
     "text": [
      "Calculation process:\n",
      "u_1 = cos(x) = 0.9999999999995\n",
      "u_2 = 1 - cos(x) = 5.000444502911705e-13\n",
      "u_3 = sin(x) = 9.999999999998333e-07\n",
      "u_4 = f(x) = 5.000444502912538e-07\n"
     ]
    }
   ],
   "source": [
    "import numpy as np\n",
    "\n",
    "def f(x):\n",
    "    return (1 - np.cos(x)) / np.sin(x)\n",
    "\n",
    "# Calculate f(10^-6)\n",
    "x = 1e-6\n",
    "# Step 1: Calculate cos(x)\n",
    "cos_x = np.cos(x)\n",
    "# Step 2: Calculate 1 - cos(x)\n",
    "one_minus_cos_x = 1 - cos_x\n",
    "# Step 3: Calculate sin(x)\n",
    "sin_x = np.sin(x)\n",
    "# Step 4: Calculate f(x)\n",
    "result_f = one_minus_cos_x / sin_x\n",
    "\n",
    "print(\"Calculation process:\")\n",
    "print(f\"u_1 = cos(x) = {cos_x}\")\n",
    "print(f\"u_2 = 1 - cos(x) = {one_minus_cos_x}\")\n",
    "print(f\"u_3 = sin(x) = {sin_x}\")\n",
    "print(f\"u_4 = f(x) = {result_f}\")"
   ]
  },
  {
   "cell_type": "markdown",
   "id": "24730d69-d7e9-492d-a9bc-785afb8c22be",
   "metadata": {},
   "source": [
    "### 2"
   ]
  },
  {
   "cell_type": "code",
   "execution_count": 4,
   "id": "9ebf2720-311b-45d6-af06-f5ab7f84a662",
   "metadata": {},
   "outputs": [],
   "source": [
    "# Similar to exe 1."
   ]
  },
  {
   "cell_type": "markdown",
   "id": "e670bcc2-b7a1-4a0c-9703-82232f259a71",
   "metadata": {},
   "source": [
    "### 3"
   ]
  },
  {
   "cell_type": "code",
   "execution_count": 6,
   "id": "85912260-839d-4c25-ba5d-27802d5c99d1",
   "metadata": {},
   "outputs": [
    {
     "name": "stdout",
     "output_type": "stream",
     "text": [
      "For i = 1, x_i = 27.308232836016487, kappa_f(x_i) = 0.25016778760041775\n",
      "For i = 2, x_i = 1490.479161252178, kappa_f(x_i) = 0.12500002813112357\n",
      "For i = 3, x_i = 81377.39571257407, kappa_f(x_i) = 0.08333333238773505\n",
      "For i = 4, x_i = 4443055.260253992, kappa_f(x_i) = 0.06250537205857479\n"
     ]
    }
   ],
   "source": [
    "import numpy as np\n",
    "\n",
    "# Define the function cosh\n",
    "def cosh(y):\n",
    "    return (np.exp(y) + np.exp(-y)) / 2\n",
    "\n",
    "# Define the derivative of acosh(x)\n",
    "def d_acosh(x):\n",
    "    return 1 / np.sqrt(x ** 2 - 1)\n",
    "\n",
    "# Define the relative condition number function\n",
    "def kappa_f(x):\n",
    "    return np.abs(x * d_acosh(x) / np.log(x - np.sqrt(x ** 2 - 1)))\n",
    "\n",
    "# Calculate x_i and kappa_f(x_i) for i = 1, 2, 3, 4\n",
    "for i in range(1, 5):\n",
    "    y_i = -4 * i\n",
    "    x_i = cosh(y_i)\n",
    "\n",
    "    kappa = kappa_f(x_i)\n",
    "    print(f\"For i = {i}, x_i = {x_i}, kappa_f(x_i) = {kappa}\")"
   ]
  },
  {
   "cell_type": "code",
   "execution_count": 7,
   "id": "f46c63fe-aa39-437b-887e-13e8aa4973aa",
   "metadata": {},
   "outputs": [
    {
     "name": "stdout",
     "output_type": "stream",
     "text": [
      "For i = 1, x_i = 27.308232836016487, Approximation of f(x_i) = -4.000000000000046, Relative Accuracy = 1.1546319456101628e-14\n",
      "For i = 2, x_i = 1490.479161252178, Approximation of f(x_i) = -8.00000000017109, Relative Accuracy = 2.138622612335439e-11\n",
      "For i = 3, x_i = 81377.39571257407, Approximation of f(x_i) = -12.000000137072186, Relative Accuracy = 1.1422682207514375e-08\n",
      "For i = 4, x_i = 4443055.260253992, Approximation of f(x_i) = -15.998624871201619, Relative Accuracy = 8.594554989882486e-05\n"
     ]
    }
   ],
   "source": [
    "import numpy as np\n",
    "\n",
    "# Define the function cosh\n",
    "def cosh(y):\n",
    "    return (np.exp(y) + np.exp(-y)) / 2\n",
    "\n",
    "# Define the acosh function using formula (1.4.4)\n",
    "def acosh_1(x):\n",
    "    return np.log(x - np.sqrt(x ** 2 - 1))\n",
    "\n",
    "# Calculate x_i and approximate f(x_i) for i = 1, 2, 3, 4\n",
    "for i in range(1, 5):\n",
    "    y_i = -4 * i\n",
    "    x_i = cosh(y_i)\n",
    "    approx_value = acosh_1(x_i)\n",
    "\n",
    "    relative_accuracy = np.abs((approx_value - y_i) / y_i)\n",
    "    print(f\"For i = {i}, x_i = {x_i}, Approximation of f(x_i) = {approx_value}, Relative Accuracy = {relative_accuracy}\")"
   ]
  },
  {
   "cell_type": "code",
   "execution_count": 8,
   "id": "4cfad3e3-a6ac-45da-ae05-f856f6a94867",
   "metadata": {},
   "outputs": [
    {
     "name": "stdout",
     "output_type": "stream",
     "text": [
      "For i = 1, x_i = 27.308232836016487, Approximation of f(x_i) = -4.0, Relative Accuracy = 0.0\n",
      "For i = 2, x_i = 1490.479161252178, Approximation of f(x_i) = -8.0, Relative Accuracy = 0.0\n",
      "For i = 3, x_i = 81377.39571257407, Approximation of f(x_i) = -12.0, Relative Accuracy = 0.0\n",
      "For i = 4, x_i = 4443055.260253992, Approximation of f(x_i) = -16.0, Relative Accuracy = 0.0\n"
     ]
    }
   ],
   "source": [
    "import numpy as np\n",
    "\n",
    "# Define the function cosh\n",
    "def cosh(y):\n",
    "    return (np.exp(y) + np.exp(-y)) / 2\n",
    "\n",
    "# Define the acosh function using formula (1.4.5)\n",
    "def acosh_2(x):\n",
    "    return -2 * np.log(np.sqrt((x + 1) / 2) + np.sqrt((x - 1) / 2))\n",
    "\n",
    "# Calculate x_i and approximate f(x_i) for i = 1, 2, 3, 4\n",
    "for i in range(1, 5):\n",
    "    y_i = -4 * i\n",
    "    x_i = cosh(y_i)\n",
    "    approx_value = acosh_2(x_i)\n",
    "\n",
    "    relative_accuracy = np.abs((approx_value - y_i) / y_i)\n",
    "    print(f\"For i = {i}, x_i = {x_i}, Approximation of f(x_i) = {approx_value}, Relative Accuracy = {relative_accuracy}\")"
   ]
  },
  {
   "cell_type": "markdown",
   "id": "5c6a39bf-d412-4125-a021-5e033083291b",
   "metadata": {},
   "source": [
    "### 4"
   ]
  },
  {
   "cell_type": "code",
   "execution_count": 10,
   "id": "5c6fd61e-7962-4860-8f14-b820ff27319b",
   "metadata": {},
   "outputs": [
    {
     "name": "stdout",
     "output_type": "stream",
     "text": [
      "Dataset: [1000000.0, 1000001.0, 1000002.0], Variance: 1.0, Single Loop Variance: 1.0\n",
      "Dataset: [10000000.0, 10000001.0, 10000002.0], Variance: 1.0, Single Loop Variance: 1.0\n",
      "Dataset: [100000000.0, 100000001.0, 100000002.0], Variance: 1.0, Single Loop Variance: 0.0\n"
     ]
    }
   ],
   "source": [
    "import numpy as np\n",
    "\n",
    "def variance(x):\n",
    "    n = len(x)\n",
    "    mean = np.sum(x) / n\n",
    "    diff_squared_sum = np.sum((np.array(x) - mean) ** 2)\n",
    "    return (1 / (n - 1)) * diff_squared_sum\n",
    "\n",
    "def single_loop_variance(x):\n",
    "    n = len(x)\n",
    "    v = np.sum(x)\n",
    "    u = np.sum([i ** 2 for i in x])\n",
    "    return (1 / (n - 1)) * (u - (1 / n) * v ** 2)\n",
    "\n",
    "x_1 = [1e6, 1 + 1e6, 2 + 1e6]\n",
    "x_2 = [1e7, 1 + 1e7, 2 + 1e7]\n",
    "x_3 = [1e8, 1 + 1e8, 2 + 1e8]\n",
    "for x in [x_1, x_2, x_3]:\n",
    "    variance1 = variance(x)\n",
    "    variance2 = single_loop_variance(x)\n",
    "    print(f\"Dataset: {x}, Variance: {variance1}, Single Loop Variance: {variance2}\")"
   ]
  }
 ],
 "metadata": {
  "kernelspec": {
   "display_name": "Python 3 (ipykernel)",
   "language": "python",
   "name": "python3"
  },
  "language_info": {
   "codemirror_mode": {
    "name": "ipython",
    "version": 3
   },
   "file_extension": ".py",
   "mimetype": "text/x-python",
   "name": "python",
   "nbconvert_exporter": "python",
   "pygments_lexer": "ipython3",
   "version": "3.12.4"
  }
 },
 "nbformat": 4,
 "nbformat_minor": 5
}

{
 "cells": [
  {
   "cell_type": "markdown",
   "id": "587f82be-dc8b-4920-af78-4703a9e51e5d",
   "metadata": {},
   "source": [
    "### 7"
   ]
  },
  {
   "cell_type": "code",
   "execution_count": 2,
   "id": "79bd287b-a365-414b-bb17-fe327614da77",
   "metadata": {},
   "outputs": [
    {
     "name": "stdout",
     "output_type": "stream",
     "text": [
      "        epsilon  r1(epsilon)  r2(epsilon)  |r1(epsilon)-1|  |r2(epsilon)-1|\n",
      "0  1.000000e-02     1.105125     0.904875         0.105125         0.095125\n",
      "1  1.000000e-04     1.010050     0.990050         0.010050         0.009950\n",
      "2  1.000000e-06     1.001001     0.999000         0.001001         0.001000\n",
      "3  1.000000e-08     1.000100     0.999900         0.000100         0.000100\n",
      "4  1.000000e-10     1.000010     0.999990         0.000010         0.000010\n",
      "5  1.000000e-12     1.000001     0.999999         0.000001         0.000001\n"
     ]
    }
   ],
   "source": [
    "import numpy as np\n",
    "import pandas as pd\n",
    "\n",
    "# Function to compute roots of the quadratic equation\n",
    "def roots_of_quadratic(epsilon):\n",
    "    a = 1\n",
    "    b = -(2 + epsilon)\n",
    "    c = 1\n",
    "    discriminant = b**2 - 4*a*c\n",
    "    r1 = (-b + np.sqrt(discriminant)) / (2*a)\n",
    "    r2 = (-b - np.sqrt(discriminant)) / (2*a)\n",
    "    return r1, r2\n",
    "\n",
    "# Values for epsilon to iterate over\n",
    "epsilon_values = [10**k for k in range(-2, -13, -2)]\n",
    "\n",
    "# Prepare the data\n",
    "data = []\n",
    "\n",
    "# Compute values for each epsilon\n",
    "for epsilon in epsilon_values:\n",
    "    r1, r2 = roots_of_quadratic(epsilon)\n",
    "    data.append([epsilon, r1, r2, abs(r1 - 1), abs(r2 - 1)])\n",
    "\n",
    "# Create a DataFrame to store the results\n",
    "df = pd.DataFrame(data, columns=['epsilon', 'r1(epsilon)', 'r2(epsilon)', '|r1(epsilon)-1|', '|r2(epsilon)-1|'])\n",
    "\n",
    "# Display the table to the user\n",
    "print(df)"
   ]
  }
 ],
 "metadata": {
  "kernelspec": {
   "display_name": "Python 3 (ipykernel)",
   "language": "python",
   "name": "python3"
  },
  "language_info": {
   "codemirror_mode": {
    "name": "ipython",
    "version": 3
   },
   "file_extension": ".py",
   "mimetype": "text/x-python",
   "name": "python",
   "nbconvert_exporter": "python",
   "pygments_lexer": "ipython3",
   "version": "3.12.4"
  }
 },
 "nbformat": 4,
 "nbformat_minor": 5
}

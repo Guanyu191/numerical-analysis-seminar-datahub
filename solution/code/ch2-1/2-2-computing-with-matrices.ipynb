{
 "cells": [
  {
   "cell_type": "markdown",
   "metadata": {},
   "source": [
    "### 2"
   ]
  },
  {
   "cell_type": "code",
   "execution_count": 1,
   "metadata": {},
   "outputs": [],
   "source": [
    "import numpy as np\n",
    "\n",
    "# define the matrices and vectors\n",
    "A = np.array([\n",
    "    [2, 1, 1, 0],\n",
    "    [0, -1, 4, 1],\n",
    "    [2, 2, 0, -2],\n",
    "    [1, 3, -1, 5]\n",
    "])\n",
    "B = np.array([\n",
    "    [3, -1, 0, 2],\n",
    "    [7, 1, 0, 2]\n",
    "])\n",
    "u = np.array([[2], [-1], [3], [1]])\n",
    "v = np.array([[np.pi], [np.e]])  # \\pi and e can be derectly used in numpy"
   ]
  },
  {
   "cell_type": "markdown",
   "metadata": {},
   "source": [
    "In python\n",
    "\n",
    "- `@` is used to represent matrix multiplication, and \n",
    "- `*` is used to represent element-wise multiplication.\n",
    "\n",
    "We use @ to represent matrix multiplication."
   ]
  },
  {
   "cell_type": "code",
   "execution_count": 2,
   "metadata": {},
   "outputs": [
    {
     "ename": "ValueError",
     "evalue": "matmul: Input operand 1 has a mismatch in its core dimension 0, with gufunc signature (n?,k),(k,m?)->(n?,m?) (size 2 is different from 4)",
     "output_type": "error",
     "traceback": [
      "\u001b[1;31m---------------------------------------------------------------------------\u001b[0m",
      "\u001b[1;31mValueError\u001b[0m                                Traceback (most recent call last)",
      "Cell \u001b[1;32mIn[2], line 2\u001b[0m\n\u001b[0;32m      1\u001b[0m \u001b[38;5;66;03m# (a) AB\u001b[39;00m\n\u001b[1;32m----> 2\u001b[0m AB \u001b[38;5;241m=\u001b[39m \u001b[43mA\u001b[49m\u001b[43m \u001b[49m\u001b[38;5;241;43m@\u001b[39;49m\u001b[43m \u001b[49m\u001b[43mB\u001b[49m  \u001b[38;5;66;03m# it is invalid\u001b[39;00m\n",
      "\u001b[1;31mValueError\u001b[0m: matmul: Input operand 1 has a mismatch in its core dimension 0, with gufunc signature (n?,k),(k,m?)->(n?,m?) (size 2 is different from 4)"
     ]
    }
   ],
   "source": [
    "# (a) AB\n",
    "AB = A @ B  # it is invalid"
   ]
  },
  {
   "cell_type": "code",
   "execution_count": 3,
   "metadata": {},
   "outputs": [
    {
     "name": "stdout",
     "output_type": "stream",
     "text": [
      "(b) BA = \n",
      " [[ 8 10 -3  9]\n",
      " [16 12  9 11]]\n"
     ]
    }
   ],
   "source": [
    "# (b) BA\n",
    "BA = np.dot(B, A)\n",
    "print(\"(b) BA = \\n\", BA)"
   ]
  },
  {
   "cell_type": "code",
   "execution_count": 4,
   "metadata": {},
   "outputs": [
    {
     "name": "stdout",
     "output_type": "stream",
     "text": [
      "(c) v^T B = \n",
      " [[28.45275076 -0.42331083  0.         11.71974896]]\n"
     ]
    }
   ],
   "source": [
    "# (c) v^T B\n",
    "v_T_B = np.dot(v.T, B)  # v.T is the transpose of v\n",
    "print(\"(c) v^T B = \\n\", v_T_B)"
   ]
  },
  {
   "cell_type": "code",
   "execution_count": 5,
   "metadata": {},
   "outputs": [
    {
     "name": "stdout",
     "output_type": "stream",
     "text": [
      "(d) Bu = \n",
      " [[ 9]\n",
      " [15]]\n"
     ]
    }
   ],
   "source": [
    "# (d) Bu\n",
    "Bu = np.dot(B, u)\n",
    "print(\"(d) Bu = \\n\", Bu)"
   ]
  },
  {
   "cell_type": "code",
   "execution_count": 6,
   "metadata": {},
   "outputs": [
    {
     "name": "stdout",
     "output_type": "stream",
     "text": [
      "(e) $[u Au A^2u A^3u]$ = \n",
      " [[  2   6  26  77]\n",
      " [ -1  14 -13 218]\n",
      " [  3   0  38 -80]\n",
      " [  1   1  53 214]]\n"
     ]
    }
   ],
   "source": [
    "# (e) [u Au A^2u A^3u]\n",
    "Au = A @ u\n",
    "A2u = A @ Au\n",
    "A3u = A @ A2u\n",
    "result_e = np.concatenate([u, Au, A2u, A3u], axis=1)\n",
    "print(\"(e) $[u Au A^2u A^3u]$ = \\n\", result_e)"
   ]
  },
  {
   "cell_type": "markdown",
   "metadata": {},
   "source": [
    "### 3"
   ]
  },
  {
   "cell_type": "code",
   "execution_count": 7,
   "metadata": {},
   "outputs": [
    {
     "name": "stdout",
     "output_type": "stream",
     "text": [
      "inner product u^T v: -910\n",
      "inner product v^T u: -910\n",
      "outer product u v^T:\n",
      " [[ -60  -50  -40  -30  -20  -10]\n",
      " [-180 -150 -120  -90  -60  -30]\n",
      " [-300 -250 -200 -150 -100  -50]\n",
      " [-420 -350 -280 -210 -140  -70]\n",
      " [-540 -450 -360 -270 -180  -90]\n",
      " [-660 -550 -440 -330 -220 -110]]\n",
      "outer product v u^T:\n",
      " [[ -60 -180 -300 -420 -540 -660]\n",
      " [ -50 -150 -250 -350 -450 -550]\n",
      " [ -40 -120 -200 -280 -360 -440]\n",
      " [ -30  -90 -150 -210 -270 -330]\n",
      " [ -20  -60 -100 -140 -180 -220]\n",
      " [ -10  -30  -50  -70  -90 -110]]\n"
     ]
    }
   ],
   "source": [
    "import numpy as np\n",
    "\n",
    "u = np.array([1, 3, 5, 7, 9, 11]).reshape(-1, 1)\n",
    "v = np.array([-60, -50, -40, -30, -20, -10]).reshape(-1, 1)\n",
    "\n",
    "# inner product\n",
    "inner_uv = np.dot(u.T, v)[0, 0]\n",
    "inner_vu = np.dot(v.T, u)[0, 0]\n",
    "\n",
    "# outer product\n",
    "outer_uv = np.dot(u, v.T)\n",
    "outer_vu = np.dot(v, u.T)\n",
    "\n",
    "print(\"inner product u^T v:\", inner_uv)\n",
    "print(\"inner product v^T u:\", inner_vu)\n",
    "print(\"outer product u v^T:\\n\", outer_uv)\n",
    "print(\"outer product v u^T:\\n\", outer_vu)\n",
    "\n",
    "# you may find that the outer product u v^T is transpose of v u^T"
   ]
  },
  {
   "cell_type": "markdown",
   "metadata": {},
   "source": [
    "### 4"
   ]
  },
  {
   "cell_type": "code",
   "execution_count": 8,
   "metadata": {},
   "outputs": [
    {
     "name": "stdout",
     "output_type": "stream",
     "text": [
      "(AB)^T = \n",
      " [[0.84653577 0.51943991 0.51903588]\n",
      " [0.64760089 0.57347854 0.6099831 ]]\n",
      "B^T A^T = \n",
      " [[0.84653577 0.51943991 0.51903588]\n",
      " [0.64760089 0.57347854 0.6099831 ]]\n"
     ]
    }
   ],
   "source": [
    "import numpy as np\n",
    "\n",
    "# generate random matrix A and B\n",
    "A = np.random.rand(3, 4)\n",
    "B = np.random.rand(4, 2)\n",
    "\n",
    "AB = A @ B\n",
    "AB_T = AB.T\n",
    "\n",
    "B_T = B.T\n",
    "A_T = A.T\n",
    "B_T_A_T = np.dot(B_T, A_T)\n",
    "\n",
    "print(\"(AB)^T = \\n\", AB_T)\n",
    "print(\"B^T A^T = \\n\", B_T_A_T)"
   ]
  },
  {
   "cell_type": "code",
   "execution_count": null,
   "metadata": {},
   "outputs": [],
   "source": []
  }
 ],
 "metadata": {
  "kernelspec": {
   "display_name": "torch",
   "language": "python",
   "name": "python3"
  },
  "language_info": {
   "codemirror_mode": {
    "name": "ipython",
    "version": 3
   },
   "file_extension": ".py",
   "mimetype": "text/x-python",
   "name": "python",
   "nbconvert_exporter": "python",
   "pygments_lexer": "ipython3",
   "version": "3.9.19"
  }
 },
 "nbformat": 4,
 "nbformat_minor": 2
}

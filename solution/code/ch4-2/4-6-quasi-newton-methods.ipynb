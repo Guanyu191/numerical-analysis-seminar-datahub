{
 "cells": [
  {
   "cell_type": "markdown",
   "id": "178deaf6",
   "metadata": {},
   "source": [
    "### 1"
   ]
  },
  {
   "cell_type": "code",
   "execution_count": 1,
   "id": "428daf7d",
   "metadata": {},
   "outputs": [],
   "source": [
    "import sys\n",
    "import numpy as np\n",
    "import matplotlib.pyplot as plt\n",
    "\n",
    "def fdjac(f, x_0, y_0=None):\n",
    "    \"\"\"4-6\n",
    "    fdjac(f, x_0 [y_0])\n",
    "\n",
    "    Compute a finite-difference approximation of the Jacobian matrix for\n",
    "    `f` at `x_0`, where `y_0`=`f(x_0)` may be given.\n",
    "    \"\"\"\n",
    "    if y_0 is None:\n",
    "        y_0 = f(x_0)\n",
    "    # FD step size\n",
    "    delta = np.sqrt(np.finfo(float).eps) * max(np.linalg.norm(x_0), 1)\n",
    "    m, n = len(y_0), len(x_0)\n",
    "    if n == 1:\n",
    "        J = (f(x_0 + delta) - y_0) / delta\n",
    "    else:\n",
    "        J = np.zeros((m, n))\n",
    "        x = x_0.copy()\n",
    "        for j in range(n):\n",
    "            x[j] += delta\n",
    "            J[:, j] = (f(x) - y_0) / delta\n",
    "            x[j] -= delta\n",
    "    return J\n",
    "\n",
    "\n",
    "def levenberg(f, x_0, maxiter=40, ftol=1e-12, xtol=1e-12):\n",
    "    \"\"\"4-6\n",
    "    levenberg(f, x_0 [maxiter, ftol, xtol])\n",
    "\n",
    "    Use Levenberg's quasi-Newton iteration to find a root of the system\n",
    "    `f` starting from `x_0`. Returns the history of root estimates \n",
    "    as a vector of vectors.\n",
    "\n",
    "    The optional keyword parameters set the maximum number of iterations\n",
    "    and the stopping tolerance for values of `f` and changes in `x`.\n",
    "\n",
    "    \"\"\"\n",
    "    x = [np.array(x_0, dtype=float)]\n",
    "    y_k = f(x_0)\n",
    "    k = 0\n",
    "    s = np.inf\n",
    "    A = fdjac(f, x[k], y_k)  # start with FD Jacobian\n",
    "    jac_is_new = True\n",
    "\n",
    "    lam = 10\n",
    "    while (np.linalg.norm(s) > xtol) and (np.linalg.norm(y_k) > ftol):\n",
    "        # Compute the proposed step.\n",
    "        B = A.T @ A + lam * np.eye(len(A[0]))\n",
    "        z = A.T @ y_k\n",
    "        s = - np.linalg.solve(B, z)\n",
    "\n",
    "        x_hat = x[k] + s\n",
    "        y_hat = f(x_hat)\n",
    "\n",
    "        # Do we accept the result?\n",
    "        if np.linalg.norm(y_hat) < np.linalg.norm(y_k):  # accept\n",
    "            lam = lam / 10  # get closer to Newton\n",
    "            # Broyden update of the Jacobian.\n",
    "            s = s.reshape(-1, 1)\n",
    "            A += (y_hat.reshape(-1, 1) - y_k.reshape(-1, 1) - A @ s) @ (s.T / (s.T @ s))\n",
    "            jac_is_new = False\n",
    "\n",
    "            x.append(x_hat)\n",
    "            y_k = y_hat\n",
    "            k += 1\n",
    "        else:  # don't accept\n",
    "            # Get closer to gradient descent.\n",
    "            lam = 4 * lam\n",
    "            # Re-initialize the Jacobian if it's out of date.\n",
    "            if not jac_is_new:\n",
    "                A = fdjac(f, x[k], y_k)\n",
    "                jac_is_new = True\n",
    "\n",
    "        if k == maxiter:\n",
    "            print(\"Warning: Maximum number of iterations reached.\")\n",
    "            break\n",
    "    return x"
   ]
  },
  {
   "cell_type": "code",
   "execution_count": 2,
   "id": "41619f0b",
   "metadata": {},
   "outputs": [
    {
     "name": "stdout",
     "output_type": "stream",
     "text": [
      "intersection of curves at [0.9935067  0.16037863]\n"
     ]
    }
   ],
   "source": [
    "def f(x):\n",
    "    u, v = x\n",
    "    return np.array(\n",
    "        [u * np.log(u) + v * np.log(v) + 0.3, u**4 + v**2 - 1]\n",
    "    )\n",
    "\n",
    "x_0 = np.array([1, 0.1])\n",
    "x_seq = levenberg(f, x_0)\n",
    "\n",
    "print(f\"intersection of curves at {x_seq[-1]}\")"
   ]
  },
  {
   "cell_type": "code",
   "execution_count": 3,
   "id": "afd61b12",
   "metadata": {},
   "outputs": [
    {
     "data": {
      "text/plain": [
       "array([ 5.55111512e-17, -1.11022302e-16])"
      ]
     },
     "execution_count": 3,
     "metadata": {},
     "output_type": "execute_result"
    }
   ],
   "source": [
    "# check the intersection\n",
    "f(x_seq[-1])"
   ]
  },
  {
   "cell_type": "code",
   "execution_count": 4,
   "id": "ef340912",
   "metadata": {},
   "outputs": [
    {
     "name": "stdout",
     "output_type": "stream",
     "text": [
      "intersection of curves at [0.16790519 0.99960252]\n"
     ]
    }
   ],
   "source": [
    "# for another initial point\n",
    "x_0 = np.array([0.1, 1])\n",
    "x_seq = levenberg(f, x_0)\n",
    "\n",
    "print(f\"intersection of curves at {x_seq[-1]}\")"
   ]
  },
  {
   "cell_type": "code",
   "execution_count": 5,
   "id": "f69e1281",
   "metadata": {},
   "outputs": [
    {
     "data": {
      "text/plain": [
       "array([-8.27116153e-15, -3.33066907e-16])"
      ]
     },
     "execution_count": 5,
     "metadata": {},
     "output_type": "execute_result"
    }
   ],
   "source": [
    "# check the intersection\n",
    "f(x_seq[-1])"
   ]
  },
  {
   "cell_type": "markdown",
   "id": "276251e0",
   "metadata": {},
   "source": [
    "### 2"
   ]
  },
  {
   "cell_type": "code",
   "execution_count": 6,
   "id": "39ecf040",
   "metadata": {},
   "outputs": [
    {
     "data": {
      "image/png": "[encoded data removed]",
      "text/plain": [
       "<Figure size 800x600 with 1 Axes>"
      ]
     },
     "metadata": {},
     "output_type": "display_data"
    }
   ],
   "source": [
    "import numpy as np\n",
    "import matplotlib.pyplot as plt\n",
    "\n",
    "t = np.linspace(0, 2*np.pi, 1000)\n",
    "\n",
    "# the first elliptical orbit\n",
    "x_1 = -5 + 10 * np.cos(t)\n",
    "y_1 = 6 * np.sin(t)\n",
    "\n",
    "# the second elliptical orbit\n",
    "x_2 = 8 * np.cos(t)\n",
    "y_2 = 3 + 12 * np.sin(t)\n",
    "\n",
    "plt.figure(figsize=(8, 6))\n",
    "plt.plot(x_1, y_1, label=\"Orbit 1\")\n",
    "plt.plot(x_2, y_2, label=\"Orbit 2\")\n",
    "plt.gca().set_aspect(\"equal\")\n",
    "plt.xlabel(\"x\")\n",
    "plt.ylabel(\"y\")\n",
    "plt.legend()\n",
    "plt.title(\"Intersection of Two Elliptical Orbits\")\n",
    "plt.grid(True)\n",
    "plt.show()"
   ]
  },
  {
   "cell_type": "code",
   "execution_count": 7,
   "id": "5b2e4829",
   "metadata": {},
   "outputs": [
    {
     "name": "stdout",
     "output_type": "stream",
     "text": [
      "the first intersection: [-7.78511561  5.76259726]\n",
      "the second intersection: [-5.29345533 -5.99741596]\n"
     ]
    }
   ],
   "source": [
    "def f(z):\n",
    "    x, y = z\n",
    "    f_1 = ((x + 5)**2)/100 + (y**2)/36 - 1\n",
    "    f_2 = (x**2)/64 + ((y - 3)**2)/144 - 1\n",
    "    return np.array([f_1, f_2])\n",
    "\n",
    "# give initial guesses from the plot above\n",
    "initial_guesses = [\n",
    "    [-5, 5],\n",
    "    [-5, -5],\n",
    "]\n",
    "\n",
    "# use newton method to find the root\n",
    "solutions = []\n",
    "for guess in initial_guesses:\n",
    "    x_seq = levenberg(f, guess)\n",
    "    solutions.append(x_seq[-1])\n",
    "\n",
    "print(f\"the first intersection: {solutions[0]}\")\n",
    "print(f\"the second intersection: {solutions[1]}\")"
   ]
  },
  {
   "cell_type": "markdown",
   "id": "495e141c",
   "metadata": {},
   "source": [
    "\n",
    "### 3"
   ]
  },
  {
   "cell_type": "code",
   "execution_count": 8,
   "id": "f2ed3e90",
   "metadata": {},
   "outputs": [],
   "source": [
    "import numpy as np\n",
    "\n",
    "def f(u):\n",
    "    x, y, z, lam = u\n",
    "    f_1 = x - 5 - (lam * x) / 25\n",
    "    f_2 = y - 4 - (lam * y) / 16\n",
    "    f_3 = z - 3 - (lam * z) / 9\n",
    "    f_4 = (x**2)/25 + (y**2)/16 + (z**2)/9 - 1\n",
    "    return np.array([f_1, f_2, f_3, f_4])"
   ]
  },
  {
   "cell_type": "code",
   "execution_count": 9,
   "id": "2a7f48c1",
   "metadata": {},
   "outputs": [
    {
     "name": "stdout",
     "output_type": "stream",
     "text": [
      "[  3.42413358   2.32680016   1.31671443 -11.50558519]\n",
      "[-3.95239397e-14 -1.23678845e-13  4.09672296e-13  1.77635684e-15]\n"
     ]
    }
   ],
   "source": [
    "# give an initial guess and check whether f(x) = 0\n",
    "initial_guess = np.array([5, 4, 3, 1])\n",
    "\n",
    "x_seq = levenberg(f, initial_guess)\n",
    "x_sol = x_seq[-1]\n",
    "\n",
    "print(x_sol)\n",
    "print(f(x_sol))"
   ]
  },
  {
   "cell_type": "code",
   "execution_count": 10,
   "id": "a5c4ae62",
   "metadata": {},
   "outputs": [
    {
     "name": "stdout",
     "output_type": "stream",
     "text": [
      "Warning: Maximum number of iterations reached.\n",
      "Warning: Maximum number of iterations reached.\n",
      "Warning: Maximum number of iterations reached.\n",
      "[-4.4037 -1.7119 -0.6083 53.385 ]\n",
      "[  3.4241   2.3268   1.3167 -11.5056]\n"
     ]
    }
   ],
   "source": [
    "# auto find roots\n",
    "# you may find that the number of initial is added from 100 to 1000\n",
    "# because the approximation of jacobian matrix leads some wrong of the optimizing direction\n",
    "initial_guesses = [\n",
    "    np.random.uniform(-10, 10, 4) for _ in range(1000)\n",
    "]\n",
    "\n",
    "solutions = []\n",
    "for guess in initial_guesses:\n",
    "    x_seq = levenberg(f, guess)\n",
    "    x_sol = x_seq[-1]\n",
    "    if np.linalg.norm(f(x_sol)) < 1e-6:  # save if solution is close to zero\n",
    "        solutions.append(x_sol)\n",
    "\n",
    "# remove duplicates\n",
    "unique_solutions = np.unique(np.round(solutions, decimals=4), axis=0)\n",
    "\n",
    "for sol in unique_solutions:\n",
    "    print(sol)"
   ]
  },
  {
   "cell_type": "code",
   "execution_count": 11,
   "id": "6c77f7a6",
   "metadata": {},
   "outputs": [
    {
     "name": "stdout",
     "output_type": "stream",
     "text": [
      "the distance between u_1 to (5, 4, 3) is 11.579084773417977\n",
      "the distance between u_2 to (1, 1, 1) is 2.781538771974966\n"
     ]
    }
   ],
   "source": [
    "u_1, u_2 = unique_solutions\n",
    "u_1, u_2 = u_1[:-1], u_2[:-1]  # remove the last element from each list\n",
    "print(f\"the distance between u_1 to (5, 4, 3) is {np.linalg.norm(u_1 - np.array([5, 4, 3]))}\")\n",
    "print(f\"the distance between u_2 to (1, 1, 1) is {np.linalg.norm(u_2 - np.array([1, 1, 1]))}\")"
   ]
  },
  {
   "cell_type": "markdown",
   "id": "3a7eeb94",
   "metadata": {},
   "source": [
    "### 6"
   ]
  },
  {
   "cell_type": "code",
   "execution_count": 12,
   "id": "cb9a2e9e",
   "metadata": {},
   "outputs": [],
   "source": [
    "import numpy as np\n",
    "\n",
    "def f(x):\n",
    "    x_1, x_2 = x\n",
    "    return np.array([\n",
    "        x_1*x_2 + x_2**2 - 1,\n",
    "        x_1*x_2**3 + x_1**2 * x_2**2 + 1\n",
    "    ])\n",
    "\n",
    "def J(x):\n",
    "    x_1, x_2 = x\n",
    "    return np.array([\n",
    "        [x_2, x_1 + 2*x_2],\n",
    "        [x_2**3 + 2*x_1*x_2**2, 3*x_1*x_2**2 + 2*x_1**2*x_2]\n",
    "    ])"
   ]
  },
  {
   "cell_type": "code",
   "execution_count": 13,
   "id": "db093f24",
   "metadata": {},
   "outputs": [
    {
     "name": "stdout",
     "output_type": "stream",
     "text": [
      "||f(x_0)|| =  3.605551275463989\n",
      "||f(x_0 + s)|| =  5.3443895816080325\n"
     ]
    }
   ],
   "source": [
    "# (a) 'pure' Newton step\n",
    "x_0 = np.array([-2.0, 1.0])\n",
    "\n",
    "A_0 = J(x_0)\n",
    "s_newton = np.linalg.solve(A_0.T @ A_0, -A_0.T @ f(x_0))\n",
    "print(\"||f(x_0)|| = \", np.linalg.norm(f(x_0)))\n",
    "print(\"||f(x_0 + s)|| = \", np.linalg.norm(f(x_0 + s_newton)))"
   ]
  },
  {
   "cell_type": "code",
   "execution_count": 14,
   "id": "c7357f13",
   "metadata": {},
   "outputs": [
    {
     "name": "stdout",
     "output_type": "stream",
     "text": [
      "j = 1, lambda = 0.01, ||f(x_0 + s)|| = 4.8459\n",
      "j = 2, lambda = 0.02, ||f(x_0 + s)|| = 4.4456\n",
      "j = 3, lambda = 0.03, ||f(x_0 + s)|| = 4.1143\n",
      "j = 4, lambda = 0.04, ||f(x_0 + s)|| = 3.8315\n",
      "j = 5, lambda = 0.05, ||f(x_0 + s)|| = 3.5832\n"
     ]
    }
   ],
   "source": [
    "# (b) Levenberg step, find the smallest value of j\n",
    "for j in range(1, 11):\n",
    "    lam = 0.01 * j\n",
    "    s = np.linalg.solve(A_0.T @ A_0 + lam*np.eye(2), -A_0.T @ f(x_0))\n",
    "    new_norm = np.linalg.norm(f(x_0 + s))\n",
    "    print(f\"j = {j}, lambda = {lam:.2f}, ||f(x_0 + s)|| = {new_norm:.4f}\")\n",
    "    if new_norm < np.linalg.norm(f(x_0)):\n",
    "        break\n"
   ]
  },
  {
   "cell_type": "code",
   "execution_count": null,
   "id": "844498c1",
   "metadata": {},
   "outputs": [],
   "source": []
  }
 ],
 "metadata": {
  "kernelspec": {
   "display_name": "torch",
   "language": "python",
   "name": "python3"
  },
  "language_info": {
   "codemirror_mode": {
    "name": "ipython",
    "version": 3
   },
   "file_extension": ".py",
   "mimetype": "text/x-python",
   "name": "python",
   "nbconvert_exporter": "python",
   "pygments_lexer": "ipython3",
   "version": "3.9.19"
  }
 },
 "nbformat": 4,
 "nbformat_minor": 5
}

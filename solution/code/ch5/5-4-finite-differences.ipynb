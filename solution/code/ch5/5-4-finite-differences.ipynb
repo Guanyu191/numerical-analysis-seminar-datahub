{
 "cells": [
  {
   "cell_type": "markdown",
   "id": "297ef4fe",
   "metadata": {},
   "source": [
    "# 5‑4  Finite Differences – Reference Solutions"
   ]
  },
  {
   "cell_type": "markdown",
   "id": "286fb8a5",
   "metadata": {},
   "source": [
    "This notebook accompanies Section **5.4 – Finite Differences** from *Fundamentals of Numerical Computation*.  It implements the programming exercises with Python/NumPy **(no Julia)**. A lightweight `fdweights` routine based on a Vandermonde system is used in place of the Julia `fdweights` helper."
   ]
  },
  {
   "cell_type": "code",
   "execution_count": 1,
   "id": "2a0e5142",
   "metadata": {},
   "outputs": [],
   "source": [
    "import numpy as np\n",
    "import math, mpmath as mp\n",
    "import matplotlib.pyplot as plt\n",
    "\n",
    "import numpy as np\n",
    "from functools import lru_cache\n",
    "\n",
    "def fdweights(t, m):\n",
    "    \"\"\"5-4\n",
    "    Compute weights for the `m`th derivative of a function at zero using\n",
    "    values at the nodes in vector `t`.\n",
    "    \"\"\"\n",
    "    t = np.asarray(t, dtype=float)\n",
    "    r = len(t) - 1          # highest node index\n",
    "\n",
    "    @lru_cache(maxsize=None)\n",
    "    def weight(m_, r_, k_):\n",
    "        # Recursively compute a single weight.\n",
    "        if m_ < 0 or m_ > r_:\n",
    "            return 0.0\n",
    "        if m_ == 0 and r_ == 0:\n",
    "            return 1.0\n",
    "        if k_ < r_:\n",
    "            # “interior” recursion branch\n",
    "            return (t[r_] * weight(m_, r_-1, k_) -\n",
    "                    m_    * weight(m_-1, r_-1, k_)) / (t[r_] - t[k_])\n",
    "        else:\n",
    "            # k_ == r_  →  “last-node” recursion branch\n",
    "            numer = np.prod(t[r_-1] - t[:r_-1]) if r_ > 1 else 1.0\n",
    "            denom = np.prod(t[r_]   - t[:r_])   if r_ > 0 else 1.0\n",
    "            beta  = numer / denom\n",
    "            return beta * (m_ * weight(m_-1, r_-1, r_-1)\n",
    "                           - t[r_-1] * weight(m_, r_-1, r_-1))\n",
    "\n",
    "    return np.array([weight(m, r, k) for k in range(r + 1)], dtype=float)\n"
   ]
  },
  {
   "cell_type": "markdown",
   "id": "9296d804",
   "metadata": {},
   "source": [
    "## Exercise 2(b) – Second‑order derivative estimates at three nodes\n",
    "Nodes: $t=0.9,\\;1.0,\\;1.1$ with spacing $h=0.1$;  function $f(x)=\\sin(2x)$.\n",
    "\n",
    "- At $x=0.9$: **forward** formula of order 2, weights $(-\\tfrac{3}{2},2,-\\tfrac12)/h$.\n",
    "- At $x=1.0$: **centered** formula of order 2, weights $(-\\tfrac12,0,\\tfrac12)/(2h)$.\n",
    "- At $x=1.1$: **backward** formula of order 2, obtained by reversing the forward weights.\n"
   ]
  },
  {
   "cell_type": "code",
   "execution_count": 2,
   "id": "d7ce29c1",
   "metadata": {},
   "outputs": [
    {
     "name": "stdout",
     "output_type": "stream",
     "text": [
      "Derivative estimates:\n",
      "  f'(0.9) ≈ -0.46424795 (exact -0.45440419)  error = 9.84e-03\n",
      "  f'(1.0) ≈ -0.41337807 (exact -0.83229367)  error = 4.19e-01\n",
      "  f'(1.1) ≈ -1.18926432 (exact -1.17700223)  error = 1.23e-02\n"
     ]
    }
   ],
   "source": [
    "f = lambda x: np.sin(2*x)\n",
    "h = 0.1\n",
    "nodes = np.array([0.9, 1.0, 1.1])\n",
    "\n",
    "# Forward diff (order 2) at leftmost node\n",
    "w_fwd = np.array([-1.5, 2.0, -0.5]) / h\n",
    "fp_09 = np.dot(w_fwd, f(nodes))\n",
    "\n",
    "# Centered diff (order 2) at middle node\n",
    "w_cent = np.array([-0.5, 0.0, 0.5]) / (2*h)\n",
    "fp_10 = np.dot(w_cent, f(nodes))\n",
    "\n",
    "# Backward diff (order 2) at rightmost node\n",
    "w_back = -w_fwd[::-1]        # reverse and negate signs\n",
    "fp_11 = np.dot(w_back, f(nodes))\n",
    "\n",
    "exact = lambda x: 2*np.cos(2*x)\n",
    "print(f\"Derivative estimates:\")\n",
    "for x,fp in zip(nodes, [fp_09, fp_10, fp_11]):\n",
    "    print(f\"  f'({x}) ≈ {fp:.8f} (exact {exact(x):.8f})  error = {abs(fp-exact(x)):.2e}\")\n"
   ]
  },
  {
   "cell_type": "markdown",
   "id": "cbd9578d",
   "metadata": {},
   "source": [
    "## Exercise 3 – Centered 5-point formulas up to 4th derivative\n",
    "$f(x)=e^{-x}$ at $x=0.5$, $h=0.2$, nodes $x_j=x+jh$ for $j=-2,\\ldots,2$."
   ]
  },
  {
   "cell_type": "code",
   "execution_count": 3,
   "id": "266ba209",
   "metadata": {},
   "outputs": [
    {
     "name": "stdout",
     "output_type": "stream",
     "text": [
      "m  approx             exact             error\n",
      "1  -6.0649815701e-01  -6.0653065971e-01  3.25e-05\n",
      "2   6.0651983836e-01   6.0653065971e-01  1.08e-05\n",
      "3  -6.1262028217e-01  -6.0653065971e-01  6.09e-03\n",
      "4   6.1058634991e-01   6.0653065971e-01  4.06e-03\n"
     ]
    }
   ],
   "source": [
    "x0, h = 0.5, 0.2\n",
    "j = np.arange(-2,3)\n",
    "nodes = x0 + j*h\n",
    "f = lambda x: math.exp(-x)\n",
    "\n",
    "def exact_deriv(m, x):\n",
    "    # f^(m) = (-1)^m e^{-x}\n",
    "    return ((-1)**m)*math.exp(-x)\n",
    "\n",
    "print(\"m  approx             exact             error\")\n",
    "for m in range(1,5):\n",
    "    w = fdweights(j*h, m)        # nodes shifted by x0 ⇒ relative coords j*h\n",
    "    approx = np.dot(w, [f(t) for t in nodes])\n",
    "    exact = exact_deriv(m, x0)\n",
    "    print(f\"{m}  {approx: .10e}  {exact: .10e}  {abs(approx-exact):.2e}\")\n"
   ]
  },
  {
   "cell_type": "markdown",
   "id": "49adbd1c",
   "metadata": {},
   "source": [
    "## Exercise 4 – Weight tables for $f''(0)$ using 3, 5, 7, 9 centered nodes with unit spacing"
   ]
  },
  {
   "cell_type": "code",
   "execution_count": 4,
   "id": "7a544f0a",
   "metadata": {},
   "outputs": [
    {
     "name": "stdout",
     "output_type": "stream",
     "text": [
      "3-point weights: [ 1. -2.  1.]\n",
      "5-point weights: [-0.08333333  1.33333333 -2.5         1.33333333 -0.08333333]\n",
      "7-point weights: [ 0.01111111 -0.15        1.5        -2.72222222  1.5        -0.15\n",
      "  0.01111111]\n",
      "9-point weights: [-1.78571429e-03  2.53968254e-02 -2.00000000e-01  1.60000000e+00\n",
      " -2.84722222e+00  1.60000000e+00 -2.00000000e-01  2.53968254e-02\n",
      " -1.78571429e-03]\n"
     ]
    }
   ],
   "source": [
    "for r in [3,5,7,9]:\n",
    "    half = (r-1)//2\n",
    "    nodes = np.arange(-half, half+1)   # symmetric, spacing 1\n",
    "    w = fdweights(nodes, 2)\n",
    "    print(f\"{r}-point weights:\", w)\n"
   ]
  },
  {
   "cell_type": "markdown",
   "id": "a7fc4b17",
   "metadata": {},
   "source": [
    "## Exercise 5 – Second derivative of $\\tan(2x)$ \n",
    "Five nodes ($j=-2..2$) with $h=0.05$."
   ]
  },
  {
   "cell_type": "code",
   "execution_count": 11,
   "id": "f83f0f47",
   "metadata": {},
   "outputs": [
    {
     "name": "stdout",
     "output_type": "stream",
     "text": [
      "x=0.3:  approx=8.03059663e+00,  exact=1.17953437e+01,  error=3.76e+00\n",
      "x=0.75:  approx=-2.91300828e+04,  exact=4.50569025e+06,  error=4.53e+06\n"
     ]
    },
    {
     "data": {
      "image/png": "[encoded data removed]",
      "text/plain": [
       "<Figure size 640x480 with 1 Axes>"
      ]
     },
     "metadata": {},
     "output_type": "display_data"
    }
   ],
   "source": [
    "f = lambda x: np.tan(2*x)\n",
    "f2 = lambda x: 8 / (np.cos(2*x)**4) * np.tan(2*x)  # exact f'' based on symbolic differentiation\n",
    "\n",
    "def fd_second(x0, h=0.05):\n",
    "    nodes = x0 + np.arange(-2,3)*h\n",
    "    w = fdweights(np.arange(-2,3)*h, 2)     # relative coords\n",
    "    return np.dot(w, [f(t) for t in nodes])\n",
    "\n",
    "for x0 in [0.3, 0.75]:\n",
    "    approx = fd_second(x0)\n",
    "    exact = f2(x0)\n",
    "    print(f\"x={x0}:  approx={approx:.8e},  exact={exact:.8e},  error={abs(approx-exact):.2e}\")\n",
    "\n",
    "x = np.linspace(0, 1, 1001)\n",
    "plt.figure()\n",
    "plt.plot(x, f(x), label='f(x)')\n",
    "plt.scatter(np.array([0.3, 0.75]), f(np.array([0.3, 0.75])), c='k', s=10)\n",
    "plt.legend()\n",
    "plt.title('Periodic spline example')\n",
    "plt.grid(True)\n",
    "plt.show()\n"
   ]
  },
  {
   "cell_type": "markdown",
   "id": "7ac7b0a2",
   "metadata": {},
   "source": [
    "The large error at $x=0.75$ stems from the proximity of $\\tan(2x)$ to its first singularity at $x=\\pi/4\\approx0.785$.  The node set $\\{x_0\\pm jh\\}$ therefore samples the function extremely close to the vertical asymptote, where $|f|$ and its derivatives grow rapidly, amplifying round‑off and truncation errors."
   ]
  }
 ],
 "metadata": {
  "kernelspec": {
   "display_name": "torch",
   "language": "python",
   "name": "python3"
  },
  "language_info": {
   "codemirror_mode": {
    "name": "ipython",
    "version": 3
   },
   "file_extension": ".py",
   "mimetype": "text/x-python",
   "name": "python",
   "nbconvert_exporter": "python",
   "pygments_lexer": "ipython3",
   "version": "3.9.19"
  }
 },
 "nbformat": 4,
 "nbformat_minor": 5
}

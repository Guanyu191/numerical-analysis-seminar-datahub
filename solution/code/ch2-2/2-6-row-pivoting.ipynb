{
 "cells": [
  {
   "cell_type": "markdown",
   "metadata": {},
   "source": [
    "### 1"
   ]
  },
  {
   "cell_type": "code",
   "execution_count": 2,
   "metadata": {},
   "outputs": [
    {
     "name": "stdout",
     "output_type": "stream",
     "text": [
      "L = \n",
      " [[1.         0.         0.        ]\n",
      " [1.         1.         0.        ]\n",
      " [0.5        0.16666667 1.        ]]\n",
      "U = \n",
      " [[ 4.          5.         10.        ]\n",
      " [ 0.          3.         -8.        ]\n",
      " [ 0.          0.          0.33333333]]\n",
      "p =  [1 2 0]\n"
     ]
    }
   ],
   "source": [
    "import numpy as np\n",
    "\n",
    "\"\"\"\n",
    "To import functions of textbook from `fnc.py`, \n",
    "we need to add the path of `fnc.py` to the system path\n",
    "\"\"\"\n",
    "import sys\n",
    "sys.path.append('../')\n",
    "from fnc import plufact\n",
    "\n",
    "A = np.array([\n",
    "    [2, 3, 4], \n",
    "    [4, 5, 10], \n",
    "    [4, 8, 2]\n",
    "])\n",
    "L, U, p = plufact(A)\n",
    "print(\"L = \\n\", L)\n",
    "print(\"U = \\n\", U)\n",
    "print(\"p = \", p)"
   ]
  },
  {
   "cell_type": "code",
   "execution_count": 3,
   "metadata": {},
   "outputs": [
    {
     "name": "stdout",
     "output_type": "stream",
     "text": [
      "L = \n",
      " [[ 1.         -0.         -0.         -0.        ]\n",
      " [ 1.          1.         -0.         -0.        ]\n",
      " [ 1.          0.2         1.         -0.        ]\n",
      " [-1.         -0.8        -0.66666667  1.        ]]\n",
      "U = \n",
      " [[ 1.          4.          5.         -5.        ]\n",
      " [ 0.         -5.          0.          4.        ]\n",
      " [ 0.          0.         -6.          6.2       ]\n",
      " [ 0.          0.          0.         -2.66666667]]\n",
      "p =  [0 3 2 1]\n"
     ]
    }
   ],
   "source": [
    "A = np.array([\n",
    "    [1, 4, 5, -5], \n",
    "    [-1, 0, -1, -5], \n",
    "    [1, 3, -1, 2], \n",
    "    [1, -1, 5, -1]\n",
    "])\n",
    "L, U, p = plufact(A)\n",
    "print(\"L = \\n\", L)\n",
    "print(\"U = \\n\", U)\n",
    "print(\"p = \", p)"
   ]
  },
  {
   "cell_type": "markdown",
   "metadata": {},
   "source": [
    "### 2"
   ]
  },
  {
   "cell_type": "code",
   "execution_count": 5,
   "metadata": {},
   "outputs": [
    {
     "name": "stdout",
     "output_type": "stream",
     "text": [
      "x = [-0.33333333  1.66666667]\n",
      "x_modified = [5. 2.]\n"
     ]
    }
   ],
   "source": [
    "import numpy as np\n",
    "\"\"\"\n",
    "To import functions of textbook from `fnc.py`, \n",
    "we need to add the path of `fnc.py` to the system path\n",
    "\"\"\"\n",
    "import sys\n",
    "sys.path.append('../')\n",
    "from fnc import plufact\n",
    "\n",
    "# Create sample matrix A and vector b\n",
    "A = np.array([\n",
    "    [2, 1], \n",
    "    [1, 2]\n",
    "])\n",
    "b = np.array([1, 3])\n",
    "x = np.linalg.solve(A, b)  # Solve Ax = b (same as U \\ (L \\ b[p]))\n",
    "print('x =', x)\n",
    "\n",
    "# LU decomposition\n",
    "L, U, p = plufact(A)\n",
    "b_p = b[p]  # Get permutation vector\n",
    "\n",
    "# Modified computation: (U \\ L) \\ b[p]\n",
    "M = np.linalg.solve(U, L)  # Solve U * M = L\n",
    "x = np.linalg.solve(M, b_p)  # Solve M * x = b[p]\n",
    "\n",
    "# Verify U^{-1} L x = b[p]\n",
    "# L x = U b[p]\n",
    "x = np.linalg.solve(L, U @ b_p)  # Solve L * x = U * b[p]\n",
    "print('x_modified =', x)"
   ]
  },
  {
   "cell_type": "code",
   "execution_count": null,
   "metadata": {},
   "outputs": [],
   "source": []
  }
 ],
 "metadata": {
  "kernelspec": {
   "display_name": "torch",
   "language": "python",
   "name": "python3"
  },
  "language_info": {
   "codemirror_mode": {
    "name": "ipython",
    "version": 3
   },
   "file_extension": ".py",
   "mimetype": "text/x-python",
   "name": "python",
   "nbconvert_exporter": "python",
   "pygments_lexer": "ipython3",
   "version": "3.9.19"
  }
 },
 "nbformat": 4,
 "nbformat_minor": 2
}

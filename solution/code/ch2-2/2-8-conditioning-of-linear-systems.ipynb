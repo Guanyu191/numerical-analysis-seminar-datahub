{
 "cells": [
  {
   "cell_type": "code",
   "execution_count": 58,
   "id": "a38e5cc3-46ad-403e-91c6-1bc2d96c6cc8",
   "metadata": {},
   "outputs": [],
   "source": [
    "from scipy import *\n",
    "from matplotlib.pyplot import *\n",
    "from scipy.linalg import *\n",
    "from numpy.linalg import *\n",
    "import scipy.sparse as sparse\n",
    "import numpy as np\n",
    "import pandas as pd\n",
    "from scipy.sparse.linalg import splu\n",
    "from timeit import default_timer as timer\n",
    "import matplotlib.pyplot as plt"
   ]
  },
  {
   "cell_type": "code",
   "execution_count": 47,
   "id": "90cc4813",
   "metadata": {},
   "outputs": [],
   "source": [
    "def lufact(A):\n",
    "\t\"\"\"\n",
    "\tlufact(A)\n",
    "\n",
    "\tCompute the LU factorization of square matrix A, returning the factors.\n",
    "\t\"\"\"\n",
    "\tn = A.shape[0]\n",
    "\tL = np.eye(n)\n",
    "\tU = A.copy()\n",
    "\n",
    "\t# Gaussian elimination\n",
    "\tfor j in range(n-1):\n",
    "\t\tfor i in range(j+1,n):\n",
    "\t\t\tL[i,j] = U[i,j] / U[j,j]   # row multiplier\n",
    "\t\t\tU[i,j:] = U[i,j:] - L[i,j]*U[j,j:]\n",
    "\treturn L, np.triu(U)\n",
    "\n",
    "def forwardsub(L,b):\n",
    "\t\"\"\"\n",
    " \tforwardsub(L,b)\n",
    "\n",
    "\tSolve the lower-triangular linear system with matrix L and right-hand side\n",
    "\tvector b.\n",
    "\t\"\"\"\n",
    "\tn = len(b)\n",
    "\tx = np.zeros(n)\n",
    "\tfor i in range(n):\n",
    "\t\ts = L[i,:i] @ x[:i]\n",
    "\t\tx[i] = ( b[i] - s ) / L[i,i]\n",
    "\treturn x\n",
    "\n",
    "\n",
    "def backsub(U,b):\n",
    "\t\"\"\"\n",
    "\tbacksub(U,b)\n",
    "\n",
    "\tSolve the upper-triangular linear system with matrix U and right-hand side\n",
    "\tvector b.\n",
    "\t\"\"\"\n",
    "\tn = len(b)\n",
    "\tx = np.zeros(n)\n",
    "\tfor i in range(n-1,-1,-1):\n",
    "\t\ts = U[i,i+1:] @ x[i+1:]\n",
    "\t\tx[i] = ( b[i] - s ) / U[i,i]\n",
    "\treturn x"
   ]
  },
  {
   "cell_type": "markdown",
   "id": "ab8bf397",
   "metadata": {},
   "source": [
    "# T1"
   ]
  },
  {
   "cell_type": "code",
   "execution_count": 29,
   "id": "07bfb9ea",
   "metadata": {},
   "outputs": [
    {
     "name": "stdout",
     "output_type": "stream",
     "text": [
      "     N  Condition Number  Norm of A  Norm of A inverse\n",
      "0    2      1.353287e+03   0.875115       1.546410e+03\n",
      "1    3      4.588048e+04   0.977556       4.693385e+04\n",
      "2    4      1.535044e+06   1.055949       1.453710e+06\n",
      "3    5      5.109816e+07   1.118859       4.566990e+07\n",
      "4    6      1.697836e+09   1.171048       1.449843e+09\n",
      "5    7      5.639187e+10   1.215419       4.639706e+10\n",
      "6    8      1.873544e+12   1.253859       1.494216e+12\n",
      "7    9      6.230805e+13   1.287663       4.838206e+13\n",
      "8   10      2.082850e+15   1.317752       1.572745e+15\n",
      "9   11      5.798008e+16   1.344804       3.811817e+16\n",
      "10  12      3.240859e+17   1.369333       7.851672e+16\n",
      "11  13      9.782879e+17   1.391735       4.088053e+17\n",
      "12  14      2.583187e+17   1.412323       1.525576e+17\n",
      "13  15      3.084577e+17   1.431345       1.460217e+17\n",
      "14  16      2.253333e+18   1.449006       3.765160e+17\n"
     ]
    }
   ],
   "source": [
    "# Define the values of n\n",
    "n_values = range(2, 17)\n",
    "\n",
    "# Define the Hibert matrix given n\n",
    "def hilbert_matrix(n):\n",
    "    A = np.array([[ 1/(i+j+2) for j in range(n+1)] for i in range(n+1) ])\n",
    "    return A\n",
    "\n",
    "# Prepare the data\n",
    "data = []\n",
    "\n",
    "# Compute values for each n\n",
    "for n in n_values:\n",
    "    A = hilbert_matrix(n)\n",
    "    condition_number = cond(A)\n",
    "    norm_A = norm(A, 2)\n",
    "    norm_A_inv = norm(inv(A), 2)\n",
    "    data.append([n, condition_number, norm_A, norm_A_inv])\n",
    "    \n",
    "    \n",
    "# Create a DataFrame to store the results\n",
    "df = pd.DataFrame(data, columns=['N', 'Condition Number', 'Norm of A', 'Norm of A inverse'])\n",
    "\n",
    "# Display the table to the user\n",
    "print(df)"
   ]
  },
  {
   "cell_type": "markdown",
   "id": "3fcef84d",
   "metadata": {},
   "source": [
    "# T2"
   ]
  },
  {
   "cell_type": "code",
   "execution_count": 37,
   "id": "42728b88",
   "metadata": {},
   "outputs": [
    {
     "name": "stdout",
     "output_type": "stream",
     "text": [
      "    N  Condition Number  Relative Error  Right Handside\n",
      "0  10      5.661233e+01    9.323464e-16    5.337956e-14\n",
      "1  20      2.078733e+04    7.409753e-13    1.549143e-08\n",
      "2  30      9.801735e+06    5.204175e-10    5.120630e-03\n",
      "3  40      4.983406e+09    7.189044e-09    3.592958e+01\n",
      "4  50      2.631969e+12    2.560749e-05    6.755429e+07\n",
      "5  60      1.488690e+15    4.145666e-02    6.183537e+13\n",
      "6  70      3.269441e+16    4.101750e+00    1.343265e+17\n"
     ]
    }
   ],
   "source": [
    "# Define the values of n\n",
    "n_values = [10*k for k in range(1, 8)]\n",
    "\n",
    "# Define the Prolate matrix\n",
    "def prolate_matrix(N, W):\n",
    "    \"\"\"\n",
    "    构造一个 NxN 的 Prolate Matrix\n",
    "    参数：\n",
    "        N : int - 矩阵大小\n",
    "        W : float - 带宽参数（0 < W < 0.5）\n",
    "    返回：\n",
    "        P : ndarray - Prolate matrix of shape (N, N)\n",
    "    \"\"\"\n",
    "    P = np.zeros((N, N))\n",
    "    for m in range(N):\n",
    "        for n in range(N):\n",
    "            if m == n:\n",
    "                P[m, n] = 2 * W\n",
    "            else:\n",
    "                P[m, n] = np.sin(2 * np.pi * W * (m - n)) / (np.pi * (m - n))\n",
    "    return P\n",
    "\n",
    "W = 0.4\n",
    "\n",
    "data = []\n",
    "for n in n_values:\n",
    "    x_exact = np.array([k/n for k in range(1, n+1)])\n",
    "    A = prolate_matrix(n, W)\n",
    "    b = A@x_exact\n",
    "    x = solve(A, b)\n",
    "    h = x - x_exact\n",
    "    condition_number = cond(A)\n",
    "    relative_error = norm(h, 2)/norm(x_exact, 2)\n",
    "    right_handside = condition_number * (norm(h, 2)/norm(b, 2))\n",
    "    data.append([n, condition_number, relative_error, right_handside])\n",
    "    \n",
    "# Create a DataFrame to store the results\n",
    "df = pd.DataFrame(data, columns=['N', 'Condition Number', 'Relative Error', 'Right Handside'])\n",
    "\n",
    "# Display the table to the user\n",
    "print(df)"
   ]
  },
  {
   "cell_type": "markdown",
   "id": "c15e0cf7",
   "metadata": {},
   "source": [
    "# T3"
   ]
  },
  {
   "cell_type": "code",
   "execution_count": 48,
   "id": "af834366",
   "metadata": {},
   "outputs": [
    {
     "name": "stdout",
     "output_type": "stream",
     "text": [
      "             Beta      |x1 - 1|  Condition Number\n",
      "0              10  4.440892e-16      1.604207e+02\n",
      "1             100  5.773160e-15      1.426892e+04\n",
      "2            1000  2.275957e-14      1.415422e+06\n",
      "3           10000  3.638201e-13      1.414334e+08\n",
      "4          100000  5.820788e-12      1.414226e+10\n",
      "5         1000000  2.328315e-11      1.414215e+12\n",
      "6        10000000  3.725291e-10      1.414214e+14\n",
      "7       100000000  5.960465e-09      1.414214e+16\n",
      "8      1000000000  2.384186e-08      1.414214e+18\n",
      "9     10000000000  3.814697e-07      1.414214e+20\n",
      "10   100000000000  6.103516e-06      1.414214e+22\n",
      "11  1000000000000  2.441406e-05      1.414214e+24\n"
     ]
    },
    {
     "name": "stderr",
     "output_type": "stream",
     "text": [
      "C:\\Users\\zhufa\\AppData\\Local\\Temp\\ipykernel_16108\\1863085437.py:29: DeprecationWarning: Conversion of an array with ndim > 0 to a scalar is deprecated, and will error in future. Ensure you extract a single element from your array before performing this operation. (Deprecated NumPy 1.25.)\n",
      "  x[i] = ( b[i] - s ) / L[i,i]\n"
     ]
    }
   ],
   "source": [
    "# 定义矩阵 A (5x5)\n",
    "def matrix_A_b(alpha, beta):\n",
    "    A = np.array([\n",
    "        [1, -1, 0, alpha - beta, beta],\n",
    "        [0, 1, -1, 0, 0],\n",
    "        [0, 0, 1, -1, 0],\n",
    "        [0, 0, 0, 1, -1],\n",
    "        [0, 0, 0, 0, 1]\n",
    "    ])\n",
    "\n",
    "    # 定义向量 b（5x1）\n",
    "    b = np.array([\n",
    "        [alpha],\n",
    "        [0],\n",
    "        [0],\n",
    "        [0],\n",
    "        [1]\n",
    "    ])\n",
    "    return A, b\n",
    "\n",
    "\n",
    "alpha = 0.1\n",
    "\n",
    "beta_values = [10**k for k in range(1, 13)]\n",
    "\n",
    "data = []\n",
    "for beta in beta_values:\n",
    "    A, b = matrix_A_b(alpha, beta)\n",
    "    condition_number = cond(A)\n",
    "    L, U = lufact(A)\n",
    "    y = forwardsub(L, b)\n",
    "    x = backsub(U,y)\n",
    "    abs_x_1 = np.abs(x[0] - 1)\n",
    "    data.append([beta, abs_x_1, condition_number])\n",
    "\n",
    "# Create a DataFrame to store the results\n",
    "df = pd.DataFrame(data, columns=['Beta', '|x1 - 1|', 'Condition Number'])\n",
    "\n",
    "# Display the table to the user\n",
    "print(df)"
   ]
  },
  {
   "cell_type": "markdown",
   "id": "dbe3a634",
   "metadata": {},
   "source": [
    "# T4"
   ]
  },
  {
   "cell_type": "code",
   "execution_count": 66,
   "id": "a67a50be",
   "metadata": {},
   "outputs": [
    {
     "data": {
      "image/png": "[encoded data removed]",
      "text/plain": [
       "<Figure size 640x480 with 1 Axes>"
      ]
     },
     "metadata": {},
     "output_type": "display_data"
    }
   ],
   "source": [
    "n_values = range(4, 21)\n",
    "\n",
    "data = []\n",
    "for n in n_values:\n",
    "    t = np.array([k/n for k in range(n+1)])\n",
    "    A = np.vander(t)\n",
    "    condition_number = norm(A, 1) * norm(inv(A), 1)\n",
    "    data.append(condition_number)\n",
    "    \n",
    "plt.plot(n_values, np.log(data))\n",
    "plt.xlabel(\"$n$\")\n",
    "plt.ylabel(\"$\\\\log(\\\\kappa(\\\\mathbf{A_n}))$\")\n",
    "plt.show()"
   ]
  },
  {
   "cell_type": "markdown",
   "id": "5582e066-5141-4078-a464-54e8639b8ee7",
   "metadata": {},
   "source": [
    "# T5"
   ]
  },
  {
   "cell_type": "code",
   "execution_count": 71,
   "id": "676b317f-6d1c-4444-9322-c85ea087198f",
   "metadata": {},
   "outputs": [
    {
     "name": "stdout",
     "output_type": "stream",
     "text": [
      "        epsilon   cond(A)       cond(L)       cond(U)\n",
      "0  1.000000e-02  2.653550  1.000200e+04  9.901010e+03\n",
      "1  1.000000e-03  2.621550  1.000002e+06  9.990010e+05\n",
      "2  1.000000e-04  2.618385  1.000000e+08  9.999000e+07\n",
      "3  1.000000e-05  2.618069  1.000000e+10  9.999900e+09\n",
      "4  1.000000e-06  2.618038  1.000000e+12  9.999990e+11\n",
      "5  1.000000e-07  2.618034  1.000000e+14  9.999999e+13\n",
      "6  1.000000e-08  2.618034  1.000000e+16  1.000000e+16\n",
      "7  1.000000e-09  2.618034  1.000000e+18  1.000000e+18\n",
      "8  1.000000e-10  2.618034  9.999999e+19  1.000000e+20\n"
     ]
    }
   ],
   "source": [
    "def matrix_A_L_U(epsilon):\n",
    "    A = np.array([[-epsilon, 1], [1, -1]])\n",
    "    L = np.array([[1, 0], [-1/epsilon, 1]])\n",
    "    U = np.array([[-epsilon, 1], [0, 1/epsilon - 1]])\n",
    "    return A, L, U\n",
    "\n",
    "epsilon_values = [10**k for k in range(-2, -11, -1)]\n",
    "\n",
    "data = []\n",
    "for epsilon in epsilon_values:\n",
    "    A, L, U = matrix_A_L_U(epsilon)\n",
    "    condition_number_A = cond(A)\n",
    "    condition_number_L = cond(L)\n",
    "    condition_number_U = cond(U)\n",
    "    data.append([epsilon, condition_number_A, condition_number_L, condition_number_U])\n",
    "    \n",
    "# Create a DataFrame to store the results\n",
    "df = pd.DataFrame(data, columns=['epsilon', 'cond(A)', 'cond(L)', 'cond(U)'])\n",
    "\n",
    "# Display the table to the user\n",
    "print(df)"
   ]
  },
  {
   "cell_type": "markdown",
   "id": "5d17b17b",
   "metadata": {},
   "source": [
    "# T7"
   ]
  },
  {
   "cell_type": "code",
   "execution_count": null,
   "id": "e9eed61d",
   "metadata": {},
   "outputs": [],
   "source": [
    "n_values = range(1, 1001)\n",
    "\n",
    "\n",
    "cond_A_m_cond_B_list = []\n",
    "cond_AB_list = []\n",
    "\n",
    "for n in n_values:\n",
    "    A = np.random.rand(n, n)\n",
    "    B = np.random.rand(n, n)\n",
    "    cond_AB_list.append(cond(A@B))\n",
    "    cond_A_m_cond_B_list.append(cond(A)*cond(B))\n",
    "    \n",
    "cond_AB_list = np.array(cond_AB_list)\n",
    "cond_A_m_cond_B_list = np.array(cond_A_m_cond_B_list)\n",
    "relative_error_inequality = cond_AB_list/cond_A_m_cond_B_list\n",
    "\n",
    "fig, ax = subplots(figsize=(8, 6))\n",
    "ax.scatter(n_values, relative_error_inequality, c='blue', label='$\\\\kappa(\\\\mathbf{AB}) / \\\\kappa(\\\\mathbf{A})\\\\kappa(\\\\mathbf{B})$')\n",
    "ax.plot(np.ones_like(relative_error_inequality), c='red', label='$y = 1$')\n",
    "ax.set_ylim([0, 1.2])\n",
    "ax.set_xlabel(\"$n$\")\n",
    "ax.set_title(\"$\\\\kappa(\\\\mathbf{AB}) / \\\\kappa(\\\\mathbf{A})\\\\kappa(\\\\mathbf{B})$ when $\\\\mathbf{A}, \\\\mathbf{B} \\\\in \\\\mathbb{R}^{n\\\\times n}$ (random sampling 1 time)\")\n",
    "ax.legend(loc='upper left')\n",
    "plt.show()"
   ]
  },
  {
   "cell_type": "code",
   "execution_count": null,
   "id": "62315239",
   "metadata": {},
   "outputs": [],
   "source": [
    "n_values1 = range(1, 1001)\n",
    "\n",
    "\n",
    "cond_A_m_cond_B_list1 = []\n",
    "cond_AB_list1 = []\n",
    "\n",
    "for n in n_values1:\n",
    "    A = np.random.rand(5, 5)\n",
    "    B = np.random.rand(5, 5)\n",
    "    cond_AB_list1.append(cond(A@B))\n",
    "    cond_A_m_cond_B_list1.append(cond(A)*cond(B))\n",
    "    \n",
    "cond_AB_list1 = np.array(cond_AB_list1)\n",
    "cond_A_m_cond_B_list1 = np.array(cond_A_m_cond_B_list1)\n",
    "relative_error_inequality1 = cond_AB_list1/cond_A_m_cond_B_list1\n",
    "\n",
    "fig, ax = subplots(figsize=(8, 6))\n",
    "ax.scatter(n_values1, relative_error_inequality1, c='blue', label='$\\\\kappa(\\\\mathbf{AB}) / \\\\kappa(\\\\mathbf{A})\\\\kappa(\\\\mathbf{B})$')\n",
    "ax.plot(np.ones_like(relative_error_inequality1), c='red', label='$y = 1$')\n",
    "ax.set_ylim([0, 1.2])\n",
    "ax.set_xlabel(\"$n$\")\n",
    "ax.set_title(\"$\\\\kappa(\\\\mathbf{AB}) / \\\\kappa(\\\\mathbf{A})\\\\kappa(\\\\mathbf{B})$ when $\\\\mathbf{A}, \\\\mathbf{B} \\\\in \\\\mathbb{R}^{5\\\\times 5}$ (random sampling 1000 times)\")\n",
    "ax.legend(loc='upper left')\n",
    "plt.show()"
   ]
  }
 ],
 "metadata": {
  "kernelspec": {
   "display_name": "Python 3",
   "language": "python",
   "name": "python3"
  },
  "language_info": {
   "codemirror_mode": {
    "name": "ipython",
    "version": 3
   },
   "file_extension": ".py",
   "mimetype": "text/x-python",
   "name": "python",
   "nbconvert_exporter": "python",
   "pygments_lexer": "ipython3",
   "version": "3.13.2"
  }
 },
 "nbformat": 4,
 "nbformat_minor": 5
}

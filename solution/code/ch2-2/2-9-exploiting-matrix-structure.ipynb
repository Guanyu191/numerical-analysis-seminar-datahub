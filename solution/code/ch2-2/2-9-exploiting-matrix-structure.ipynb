{
 "cells": [
  {
   "cell_type": "code",
   "execution_count": 1,
   "id": "a38e5cc3-46ad-403e-91c6-1bc2d96c6cc8",
   "metadata": {},
   "outputs": [],
   "source": [
    "from scipy import *\n",
    "from matplotlib.pyplot import *\n",
    "from scipy.linalg import *\n",
    "from numpy.linalg import *\n",
    "import scipy.sparse as sparse\n",
    "import numpy as np\n",
    "import pandas as pd\n",
    "from scipy.sparse.linalg import splu\n",
    "from timeit import default_timer as timer\n",
    "import matplotlib.pyplot as plt"
   ]
  },
  {
   "cell_type": "code",
   "execution_count": 2,
   "id": "90cc4813",
   "metadata": {},
   "outputs": [],
   "source": [
    "def lufact(A):\n",
    "\t\"\"\"\n",
    "\tlufact(A)\n",
    "\n",
    "\tCompute the LU factorization of square matrix A, returning the factors.\n",
    "\t\"\"\"\n",
    "\tn = A.shape[0]\n",
    "\tL = np.eye(n)\n",
    "\tU = A.copy()\n",
    "\n",
    "\t# Gaussian elimination\n",
    "\tfor j in range(n-1):\n",
    "\t\tfor i in range(j+1,n):\n",
    "\t\t\tL[i,j] = U[i,j] / U[j,j]   # row multiplier\n",
    "\t\t\tU[i,j:] = U[i,j:] - L[i,j]*U[j,j:]\n",
    "\treturn L, np.triu(U)\n",
    "\n",
    "def forwardsub(L,b):\n",
    "\t\"\"\"\n",
    " \tforwardsub(L,b)\n",
    "\n",
    "\tSolve the lower-triangular linear system with matrix L and right-hand side\n",
    "\tvector b.\n",
    "\t\"\"\"\n",
    "\tn = len(b)\n",
    "\tx = np.zeros(n)\n",
    "\tfor i in range(n):\n",
    "\t\ts = L[i,:i] @ x[:i]\n",
    "\t\tx[i] = ( b[i] - s ) / L[i,i]\n",
    "\treturn x\n",
    "\n",
    "\n",
    "def backsub(U,b):\n",
    "\t\"\"\"\n",
    "\tbacksub(U,b)\n",
    "\n",
    "\tSolve the upper-triangular linear system with matrix U and right-hand side\n",
    "\tvector b.\n",
    "\t\"\"\"\n",
    "\tn = len(b)\n",
    "\tx = np.zeros(n)\n",
    "\tfor i in range(n-1,-1,-1):\n",
    "\t\ts = U[i,i+1:] @ x[i+1:]\n",
    "\t\tx[i] = ( b[i] - s ) / U[i,i]\n",
    "\treturn x"
   ]
  },
  {
   "cell_type": "markdown",
   "id": "ab8bf397",
   "metadata": {},
   "source": [
    "# T2"
   ]
  },
  {
   "cell_type": "code",
   "execution_count": 3,
   "id": "07bfb9ea",
   "metadata": {},
   "outputs": [],
   "source": [
    "A = np.array([[1, 0, -1], [0, 4, 5], [-1, 5, 10]])\n",
    "B = np.array([[1, 0, 1], [0, 4, 5], [-1, 5, 10]])\n",
    "C = np.array([[1, 0, 1], [0, 4, 5], [1, 5, 1]])"
   ]
  },
  {
   "cell_type": "code",
   "execution_count": 4,
   "id": "fd8a2eac",
   "metadata": {},
   "outputs": [
    {
     "data": {
      "text/plain": [
       "array([[ 1.       ,  0.       ,  0.       ],\n",
       "       [ 0.       ,  2.       ,  0.       ],\n",
       "       [-1.       ,  2.5      ,  1.6583124]])"
      ]
     },
     "execution_count": 4,
     "metadata": {},
     "output_type": "execute_result"
    }
   ],
   "source": [
    "cholesky(A)"
   ]
  },
  {
   "cell_type": "code",
   "execution_count": 5,
   "id": "8cba6d95",
   "metadata": {},
   "outputs": [
    {
     "data": {
      "text/plain": [
       "array([[ 1.       ,  0.       ,  0.       ],\n",
       "       [ 0.       ,  2.       ,  0.       ],\n",
       "       [-1.       ,  2.5      ,  1.6583124]])"
      ]
     },
     "execution_count": 5,
     "metadata": {},
     "output_type": "execute_result"
    }
   ],
   "source": [
    "cholesky(B)"
   ]
  },
  {
   "cell_type": "code",
   "execution_count": 6,
   "id": "57a05baf",
   "metadata": {},
   "outputs": [
    {
     "ename": "LinAlgError",
     "evalue": "Matrix is not positive definite",
     "output_type": "error",
     "traceback": [
      "\u001b[31m---------------------------------------------------------------------------\u001b[39m",
      "\u001b[31mLinAlgError\u001b[39m                               Traceback (most recent call last)",
      "\u001b[36mCell\u001b[39m\u001b[36m \u001b[39m\u001b[32mIn[6]\u001b[39m\u001b[32m, line 1\u001b[39m\n\u001b[32m----> \u001b[39m\u001b[32m1\u001b[39m \u001b[43mcholesky\u001b[49m\u001b[43m(\u001b[49m\u001b[43mC\u001b[49m\u001b[43m)\u001b[49m\n",
      "\u001b[36mFile \u001b[39m\u001b[32me:\\anaconda_envs\\scau_datahub_na\\Lib\\site-packages\\numpy\\linalg\\_linalg.py:839\u001b[39m, in \u001b[36mcholesky\u001b[39m\u001b[34m(a, upper)\u001b[39m\n\u001b[32m    836\u001b[39m signature = \u001b[33m'\u001b[39m\u001b[33mD->D\u001b[39m\u001b[33m'\u001b[39m \u001b[38;5;28;01mif\u001b[39;00m isComplexType(t) \u001b[38;5;28;01melse\u001b[39;00m \u001b[33m'\u001b[39m\u001b[33md->d\u001b[39m\u001b[33m'\u001b[39m\n\u001b[32m    837\u001b[39m \u001b[38;5;28;01mwith\u001b[39;00m errstate(call=_raise_linalgerror_nonposdef, invalid=\u001b[33m'\u001b[39m\u001b[33mcall\u001b[39m\u001b[33m'\u001b[39m,\n\u001b[32m    838\u001b[39m               over=\u001b[33m'\u001b[39m\u001b[33mignore\u001b[39m\u001b[33m'\u001b[39m, divide=\u001b[33m'\u001b[39m\u001b[33mignore\u001b[39m\u001b[33m'\u001b[39m, under=\u001b[33m'\u001b[39m\u001b[33mignore\u001b[39m\u001b[33m'\u001b[39m):\n\u001b[32m--> \u001b[39m\u001b[32m839\u001b[39m     r = \u001b[43mgufunc\u001b[49m\u001b[43m(\u001b[49m\u001b[43ma\u001b[49m\u001b[43m,\u001b[49m\u001b[43m \u001b[49m\u001b[43msignature\u001b[49m\u001b[43m=\u001b[49m\u001b[43msignature\u001b[49m\u001b[43m)\u001b[49m\n\u001b[32m    840\u001b[39m \u001b[38;5;28;01mreturn\u001b[39;00m wrap(r.astype(result_t, copy=\u001b[38;5;28;01mFalse\u001b[39;00m))\n",
      "\u001b[36mFile \u001b[39m\u001b[32me:\\anaconda_envs\\scau_datahub_na\\Lib\\site-packages\\numpy\\linalg\\_linalg.py:107\u001b[39m, in \u001b[36m_raise_linalgerror_nonposdef\u001b[39m\u001b[34m(err, flag)\u001b[39m\n\u001b[32m    106\u001b[39m \u001b[38;5;28;01mdef\u001b[39;00m\u001b[38;5;250m \u001b[39m\u001b[34m_raise_linalgerror_nonposdef\u001b[39m(err, flag):\n\u001b[32m--> \u001b[39m\u001b[32m107\u001b[39m     \u001b[38;5;28;01mraise\u001b[39;00m LinAlgError(\u001b[33m\"\u001b[39m\u001b[33mMatrix is not positive definite\u001b[39m\u001b[33m\"\u001b[39m)\n",
      "\u001b[31mLinAlgError\u001b[39m: Matrix is not positive definite"
     ]
    }
   ],
   "source": [
    "cholesky(C)"
   ]
  },
  {
   "cell_type": "markdown",
   "id": "3fcef84d",
   "metadata": {},
   "source": [
    "# T4"
   ]
  },
  {
   "cell_type": "code",
   "execution_count": 7,
   "id": "42728b88",
   "metadata": {},
   "outputs": [],
   "source": [
    "def lufact(A):\n",
    "\t\"\"\"\n",
    "\tlufact(A)\n",
    "\n",
    "\tCompute the LU factorization of square matrix A, returning the factors.\n",
    "\t\"\"\"\n",
    "\tn = A.shape[0]\n",
    "\tL = np.eye(n)\n",
    "\tU = A.copy()\n",
    "\n",
    "\t# Gaussian elimination\n",
    "\tfor j in range(n-1):\n",
    "\t\tfor i in range(j+1,n):\n",
    "\t\t\tL[i,j] = U[i,j] / U[j,j]   # row multiplier\n",
    "\t\t\tU[i,j:] = U[i,j:] - L[i,j]*U[j,j:]\n",
    "\treturn L, np.triu(U)\n",
    "\n",
    "def luband(A, upper, lower):\n",
    "\tn = A.shape[0]\n",
    "\tL = np.eye(n)\n",
    "\tU = A.copy()\n",
    "\n",
    "\t# Gaussian elimination\n",
    "\tfor j in range(n-1):\n",
    "\t\tfor i in range(j+1,min(j + lower + 1, n)):\n",
    "\t\t\tL[i,j] = U[i,j] / U[j,j]   # row multiplier\n",
    "\t\t\tfor k in range(j, min(j + upper + 1, n)):\n",
    "\t\t\t\tU[i,k] = U[i,k] - L[i,j]*U[j,k]\n",
    "\treturn L, np.triu(U)"
   ]
  },
  {
   "cell_type": "code",
   "execution_count": null,
   "id": "83a756d0",
   "metadata": {},
   "outputs": [],
   "source": [
    "lower = 2\n",
    "upper = 1\n",
    "\n",
    "def get_matrix_A(n):\n",
    "    A = np.zeros([n, n])\n",
    "    for i in range(n):\n",
    "        for j in range(n):\n",
    "            if i-j >= -1 and i-j <= 2:\n",
    "                A[i, j] = 1.0/(i+1+j+1)\n",
    "    return A"
   ]
  },
  {
   "cell_type": "code",
   "execution_count": 34,
   "id": "66afb4fa",
   "metadata": {},
   "outputs": [
    {
     "name": "stdout",
     "output_type": "stream",
     "text": [
      "    N    LU TIME    LU BAND TIME\n",
      "   40    1.297e-04  4.120e-05\n",
      "   80    6.400e-05  3.810e-05\n",
      "  120    6.050e-05  3.600e-05\n",
      "  160    6.010e-05  2.235e-04\n",
      "  200    1.078e-04  3.930e-05\n",
      "  240    6.060e-05  3.520e-05\n",
      "  280    6.080e-05  3.350e-05\n",
      "  320    5.890e-05  3.310e-05\n",
      "  360    5.910e-05  3.440e-05\n",
      "  400    5.900e-05  3.180e-05\n",
      "  440    5.820e-05  3.200e-05\n",
      "  480    5.860e-05  3.280e-05\n",
      "  520    5.910e-05  3.200e-05\n",
      "  560    5.860e-05  3.170e-05\n",
      "  600    5.880e-05  3.180e-05\n",
      "  640    5.840e-05  3.140e-05\n",
      "  680    5.870e-05  3.300e-05\n",
      "  720    5.850e-05  3.130e-05\n",
      "  760    5.820e-05  3.340e-05\n",
      "  800    6.350e-05  3.180e-05\n"
     ]
    }
   ],
   "source": [
    "n_values = [40*k for k in range(1, 21)]\n",
    "print(\"    N    LU TIME    LU BAND TIME\")\n",
    "for n in n_values:\n",
    "    start = timer()\n",
    "    L, U = lufact(A)\n",
    "    t1 = timer() - start\n",
    "\n",
    "    start = timer()\n",
    "    L, U = luband(A, upper=1, lower=2)\n",
    "    t2 = timer() - start\n",
    "  \n",
    "    print(f\"{n:5}   {t1:10.3e} {t2:10.3e}\")\n"
   ]
  },
  {
   "cell_type": "code",
   "execution_count": 17,
   "id": "c14208f3",
   "metadata": {},
   "outputs": [
    {
     "name": "stdout",
     "output_type": "stream",
     "text": [
      "[[ 1.          0.          0.          0.          0.        ]\n",
      " [ 0.66666667  1.          0.          0.          0.        ]\n",
      " [ 0.5         1.2         1.          0.          0.        ]\n",
      " [ 0.          6.         14.41558442  1.          0.        ]\n",
      " [ 0.          0.         -1.70454545 -0.18332467  1.        ]]\n",
      "[[ 0.5         0.33333333  0.          0.          0.        ]\n",
      " [ 0.          0.02777778  0.2         0.          0.        ]\n",
      " [ 0.          0.         -0.07333333  0.14285714  0.        ]\n",
      " [ 0.          0.          0.         -1.9343692   0.11111111]\n",
      " [ 0.          0.          0.          0.          0.12036941]]\n"
     ]
    }
   ],
   "source": []
  }
 ],
 "metadata": {
  "kernelspec": {
   "display_name": "Python 3",
   "language": "python",
   "name": "python3"
  },
  "language_info": {
   "codemirror_mode": {
    "name": "ipython",
    "version": 3
   },
   "file_extension": ".py",
   "mimetype": "text/x-python",
   "name": "python",
   "nbconvert_exporter": "python",
   "pygments_lexer": "ipython3",
   "version": "3.13.2"
  }
 },
 "nbformat": 4,
 "nbformat_minor": 5
}

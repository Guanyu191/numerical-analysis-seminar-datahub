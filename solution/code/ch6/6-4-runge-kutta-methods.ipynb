{
 "cells": [
  {
   "cell_type": "markdown",
   "metadata": {},
   "source": [
    "# FNC 6.4 Runge–Kutta\n",
    "This notebook implements the coding parts of the RK section:\n",
    "- Exercise 3: Modified Euler (ME2) and a convergence study on Exercise 1(a).\n",
    "- Exercise 5: Heun's method and a convergence study on Exercise 1(a).\n",
    "- Exercise 9: RK4 applied to a suite of IVPs (a–h).\n",
    "- Exercise 10: Re-do Systems Exercise 6.3.4 (SIR model) with our RK4 instead of `solve`.\n",
    "Implementation choices follow the FNC (Julia) style but are written in clean Python/Numpy."
   ]
  },
  {
   "cell_type": "code",
   "execution_count": 1,
   "metadata": {},
   "outputs": [],
   "source": [
    "import numpy as np\n",
    "import math\n",
    "import matplotlib.pyplot as plt\n",
    "\n",
    "# ---- Generic stepper utilities ----\n",
    "def _asarray(u):\n",
    "    # ensure u is float or 1D numpy array; return ndarray view for arithmetic\n",
    "    u = np.asarray(u, dtype=float)\n",
    "    return u\n",
    "\n",
    "def _rk_template(f, tspan, u0, n, stages):\n",
    "    # Generic fixed-step RK driver.\n",
    "    a, b = float(tspan[0]), float(tspan[1])\n",
    "    h = (b - a) / n\n",
    "    t = a + h*np.arange(n+1)\n",
    "    u0 = _asarray(u0)\n",
    "    m = u0.size\n",
    "    U = np.empty((n+1, m), dtype=float)\n",
    "    U[0] = u0\n",
    "    for i in range(n):\n",
    "        U[i+1] = stages(f, t[i], U[i], h)\n",
    "    return t, U.squeeze()\n",
    "\n",
    "# ---- Specific RK methods ----\n",
    "def rk4(f, tspan, u0, n):\n",
    "    # Classical RK4 (Function 6.4.4 analogue).\n",
    "    def stages(f, ti, ui, h):\n",
    "        k1 = f(ti, ui)\n",
    "        k2 = f(ti + 0.5*h, ui + 0.5*h*np.asarray(k1))\n",
    "        k3 = f(ti + 0.5*h, ui + 0.5*h*np.asarray(k2))\n",
    "        k4 = f(ti + h,     ui + h*np.asarray(k3))\n",
    "        return ui + (h/6.0)*(np.asarray(k1) + 2*np.asarray(k2) + 2*np.asarray(k3) + np.asarray(k4))\n",
    "    return _rk_template(f, tspan, u0, n, stages)\n",
    "\n",
    "def me2_modified_euler(f, tspan, u0, n):\n",
    "    # Modified Euler (ME2), tableau:\n",
    "    #   0  |\n",
    "    #   1  | 1\n",
    "    #  --- + --------\n",
    "    #      | 1/2  1/2\n",
    "    def stages(f, ti, ui, h):\n",
    "        k1 = f(ti, ui)\n",
    "        k2 = f(ti + h, ui + h*np.asarray(k1))\n",
    "        return ui + 0.5*h*(np.asarray(k1) + np.asarray(k2))\n",
    "    return _rk_template(f, tspan, u0, n, stages)\n",
    "\n",
    "def heun(f, tspan, u0, n):\n",
    "    # Heun's 2nd-order method (FNC variant), tableau:\n",
    "    #   0  |\n",
    "    #  2/3 | 2/3\n",
    "    #  --- + --------\n",
    "    #      | 1/4  3/4\n",
    "    def stages(f, ti, ui, h):\n",
    "        k1 = f(ti, ui)\n",
    "        k2 = f(ti + (2.0/3.0)*h, ui + (2.0/3.0)*h*np.asarray(k1))\n",
    "        return ui + h*(0.25*np.asarray(k1) + 0.75*np.asarray(k2))\n",
    "    return _rk_template(f, tspan, u0, n, stages)\n",
    "\n",
    "def loglog_with_ref(N, E, slope, title):\n",
    "    plt.figure(figsize=(6,4))\n",
    "    plt.loglog(N, E, marker='o', label='error @ final time')\n",
    "    ref = E[-1]*(np.array(N)/N[-1])**(-slope)\n",
    "    plt.loglog(N, ref, linestyle='--', label=f'O(n^{-{slope}})')\n",
    "    plt.xlabel('n (time steps)')\n",
    "    plt.ylabel('error')\n",
    "    plt.title(title)\n",
    "    plt.grid(True, which='both')\n",
    "    plt.legend()\n",
    "    plt.show()"
   ]
  },
  {
   "cell_type": "markdown",
   "metadata": {},
   "source": [
    "## Exercise 3 — Modified Euler (ME2) on Exercise 1(a) and convergence study"
   ]
  },
  {
   "cell_type": "code",
   "execution_count": 2,
   "metadata": {},
   "outputs": [
    {
     "ename": "TypeError",
     "evalue": "bad operand type for unary -: 'set'",
     "output_type": "error",
     "traceback": [
      "\u001b[1;31m---------------------------------------------------------------------------\u001b[0m",
      "\u001b[1;31mTypeError\u001b[0m                                 Traceback (most recent call last)",
      "Cell \u001b[1;32mIn[2], line 16\u001b[0m\n\u001b[0;32m     13\u001b[0m     t, u \u001b[38;5;241m=\u001b[39m me2_modified_euler(f, (a,b), u0, n)\n\u001b[0;32m     14\u001b[0m     errs\u001b[38;5;241m.\u001b[39mappend(\u001b[38;5;28mabs\u001b[39m(u[\u001b[38;5;241m-\u001b[39m\u001b[38;5;241m1\u001b[39m] \u001b[38;5;241m-\u001b[39m u_b_ref))\n\u001b[1;32m---> 16\u001b[0m \u001b[43mloglog_with_ref\u001b[49m\u001b[43m(\u001b[49m\u001b[43mNs\u001b[49m\u001b[43m,\u001b[49m\u001b[43m \u001b[49m\u001b[43merrs\u001b[49m\u001b[43m,\u001b[49m\u001b[43m \u001b[49m\u001b[43mslope\u001b[49m\u001b[38;5;241;43m=\u001b[39;49m\u001b[38;5;241;43m2\u001b[39;49m\u001b[43m,\u001b[49m\u001b[43m \u001b[49m\u001b[43mtitle\u001b[49m\u001b[38;5;241;43m=\u001b[39;49m\u001b[38;5;124;43m\"\u001b[39;49m\u001b[38;5;124;43mModified Euler on 1(a): error at t=2 vs n\u001b[39;49m\u001b[38;5;124;43m\"\u001b[39;49m\u001b[43m)\u001b[49m\n\u001b[0;32m     17\u001b[0m \u001b[38;5;28mprint\u001b[39m(\u001b[38;5;124m\"\u001b[39m\u001b[38;5;124mu_exact(2) ≈\u001b[39m\u001b[38;5;124m\"\u001b[39m, u_exact(\u001b[38;5;241m2.0\u001b[39m), \u001b[38;5;124m\"\u001b[39m\u001b[38;5;124m  reference ≈\u001b[39m\u001b[38;5;124m\"\u001b[39m, u_b_ref)\n",
      "Cell \u001b[1;32mIn[1], line 63\u001b[0m, in \u001b[0;36mloglog_with_ref\u001b[1;34m(N, E, slope, title)\u001b[0m\n\u001b[0;32m     61\u001b[0m plt\u001b[38;5;241m.\u001b[39mloglog(N, E, marker\u001b[38;5;241m=\u001b[39m\u001b[38;5;124m'\u001b[39m\u001b[38;5;124mo\u001b[39m\u001b[38;5;124m'\u001b[39m, label\u001b[38;5;241m=\u001b[39m\u001b[38;5;124m'\u001b[39m\u001b[38;5;124merror @ final time\u001b[39m\u001b[38;5;124m'\u001b[39m)\n\u001b[0;32m     62\u001b[0m ref \u001b[38;5;241m=\u001b[39m E[\u001b[38;5;241m-\u001b[39m\u001b[38;5;241m1\u001b[39m]\u001b[38;5;241m*\u001b[39m(np\u001b[38;5;241m.\u001b[39marray(N)\u001b[38;5;241m/\u001b[39mN[\u001b[38;5;241m-\u001b[39m\u001b[38;5;241m1\u001b[39m])\u001b[38;5;241m*\u001b[39m\u001b[38;5;241m*\u001b[39m(\u001b[38;5;241m-\u001b[39mslope)\n\u001b[1;32m---> 63\u001b[0m plt\u001b[38;5;241m.\u001b[39mloglog(N, ref, linestyle\u001b[38;5;241m=\u001b[39m\u001b[38;5;124m'\u001b[39m\u001b[38;5;124m--\u001b[39m\u001b[38;5;124m'\u001b[39m, label\u001b[38;5;241m=\u001b[39m\u001b[38;5;124mf\u001b[39m\u001b[38;5;124m'\u001b[39m\u001b[38;5;124mO(n^\u001b[39m\u001b[38;5;132;01m{\u001b[39;00m\u001b[38;5;241m-\u001b[39m{slope}\u001b[38;5;132;01m}\u001b[39;00m\u001b[38;5;124m)\u001b[39m\u001b[38;5;124m'\u001b[39m)\n\u001b[0;32m     64\u001b[0m plt\u001b[38;5;241m.\u001b[39mxlabel(\u001b[38;5;124m'\u001b[39m\u001b[38;5;124mn (time steps)\u001b[39m\u001b[38;5;124m'\u001b[39m)\n\u001b[0;32m     65\u001b[0m plt\u001b[38;5;241m.\u001b[39mylabel(\u001b[38;5;124m'\u001b[39m\u001b[38;5;124merror\u001b[39m\u001b[38;5;124m'\u001b[39m)\n",
      "\u001b[1;31mTypeError\u001b[0m: bad operand type for unary -: 'set'"
     ]
    },
    {
     "data": {
      "image/png": "[encoded data removed]",
      "text/plain": [
       "<Figure size 600x400 with 1 Axes>"
      ]
     },
     "metadata": {},
     "output_type": "display_data"
    }
   ],
   "source": [
    "# IVP 1(a): u' = -2 t u, 0<=t<=2, u(0)=2, exact û=2e^{-t^2}\n",
    "f = lambda t, u: -2.0*t*np.asarray(u)\n",
    "u_exact = lambda t: 2.0*np.exp(-t**2)\n",
    "a, b, u0 = 0.0, 2.0, 2.0\n",
    "\n",
    "# reference using RK4 with very fine n\n",
    "t_ref, u_ref = rk4(f, (a,b), u0, n=40000)\n",
    "u_b_ref = u_ref[-1]\n",
    "\n",
    "Ns = list(range(30, 301, 30))\n",
    "errs = []\n",
    "for n in Ns:\n",
    "    t, u = me2_modified_euler(f, (a,b), u0, n)\n",
    "    errs.append(abs(u[-1] - u_b_ref))\n",
    "\n",
    "loglog_with_ref(Ns, errs, slope=2, title=\"Modified Euler on 1(a): error at t=2 vs n\")\n",
    "print(\"u_exact(2) ≈\", u_exact(2.0), \"  reference ≈\", u_b_ref)"
   ]
  },
  {
   "cell_type": "markdown",
   "metadata": {},
   "source": [
    "## Exercise 5 — Heun's method on Exercise 1(a) and convergence study"
   ]
  },
  {
   "cell_type": "code",
   "execution_count": null,
   "metadata": {},
   "outputs": [],
   "source": [
    "errs = []\n",
    "for n in Ns:\n",
    "    t, u = heun(f, (a,b), u0, n)\n",
    "    errs.append(abs(u[-1] - u_b_ref))\n",
    "\n",
    "loglog_with_ref(Ns, errs, slope=2, title=\"Heun on 1(a): error at t=2 vs n\")"
   ]
  },
  {
   "cell_type": "markdown",
   "metadata": {},
   "source": [
    "## Exercise 9 — RK4 on problems (a)–(h)\n",
    "For each: plot solution for n=300, then a log–log convergence plot using n=100,200,...,1000."
   ]
  },
  {
   "cell_type": "code",
   "execution_count": null,
   "metadata": {},
   "outputs": [],
   "source": [
    "def solve_and_error_rk4(f, span, u0, exact, nlist):\n",
    "    errs = []\n",
    "    for n in nlist:\n",
    "        t, y = rk4(f, span, u0, n)\n",
    "        # Handle scalar or vector solution\n",
    "        y_end = y[-1][0] if np.asarray(y[-1]).ndim>0 else y[-1]\n",
    "        errs.append(abs(exact(span[1]) - y_end))\n",
    "    return errs\n",
    "\n",
    "# (a) y'' + 9y = 9t, 0<t<2π, y(0)=1, y'(0)=1; ŷ(t) = t + cos(3t)\n",
    "def f_a(t, U):\n",
    "    y, yp = U\n",
    "    return np.array([yp, 9.0*t - 9.0*y])\n",
    "exact_a = lambda t: t + np.cos(3.0*t)\n",
    "span_a, u0_a = (0.0, 2.0*math.pi), np.array([1.0, 1.0])\n",
    "\n",
    "# (b) y'' + 9y = sin(2t), y(0)=2, y'(0)=1\n",
    "def f_b(t, U):\n",
    "    y, yp = U\n",
    "    return np.array([yp, math.sin(2.0*t) - 9.0*y])\n",
    "exact_b = lambda t: (1/5)*math.sin(3*t) + 2*math.cos(3*t) + (1/5)*math.sin(2*t)\n",
    "span_b, u0_b = (0.0, 2.0*math.pi), np.array([2.0, 1.0])\n",
    "\n",
    "# (c) y'' - 9y = 9t, 0<t<1, y(0)=2, y'(0)=-1\n",
    "def f_c(t, U):\n",
    "    y, yp = U\n",
    "    return np.array([yp, 9.0*t + 9.0*y])\n",
    "exact_c = lambda t: math.exp(3.0*t) + math.exp(-3.0*t) - t\n",
    "span_c, u0_c = (0.0, 1.0), np.array([2.0, -1.0])\n",
    "\n",
    "# (d) y'' + 4y' + 4y = t, 0<t<4, y(0)=1, y'(0)=3/4\n",
    "def f_d(t, U):\n",
    "    y, yp = U\n",
    "    return np.array([yp, t - 4.0*yp - 4.0*y])\n",
    "exact_d = lambda t: (3.0*t + 1.25)*math.exp(-2.0*t) + 0.25*(t - 1.0)\n",
    "span_d, u0_d = (0.0, 4.0), np.array([1.0, 0.75])\n",
    "\n",
    "# (e) x^2 y'' + 5 x y' + 4 y = 0 on 1<x<e^2, y(1)=1, y'(1)=-1\n",
    "def f_e(x, U):\n",
    "    y, yp = U\n",
    "    return np.array([yp, -(5.0*x*yp + 4.0*y)/(x**2)])\n",
    "exact_e = lambda x: (1.0 + math.log(x))/(x**2)\n",
    "span_e, u0_e = (1.0, math.e**2), np.array([1.0, -1.0])\n",
    "\n",
    "# (f) 2 x^2 y'' + 3 x y' - y = 0 on 1<x<16, y(1)=4, y'(1)=-1\n",
    "def f_f(x, U):\n",
    "    y, yp = U\n",
    "    return np.array([yp, (y - 3.0*x*yp)/(2.0*x**2)])\n",
    "exact_f = lambda x: 2.0*(math.sqrt(x) + 1.0/x)\n",
    "span_f, u0_f = (1.0, 16.0), np.array([4.0, -1.0])\n",
    "\n",
    "# (g) x^2 y'' - x y' + 2 y = 0 on 1<x<e^π, y(1)=3, y'(1)=4\n",
    "def f_g(x, U):\n",
    "    y, yp = U\n",
    "    return np.array([yp, (x*yp - 2.0*y)/(x**2)])\n",
    "exact_g = lambda x: x*(3.0*math.cos(math.log(x)) + math.sin(math.log(x)))\n",
    "span_g, u0_g = (1.0, math.e**math.pi), np.array([3.0, 4.0])\n",
    "\n",
    "# (h) x^2 y'' + 3 x y' + 4 y = 0 on e^{π/12} < x < e^π; y(a)=0, y'(a)=-6\n",
    "def f_h(x, U):\n",
    "    y, yp = U\n",
    "    return np.array([yp, -(3.0*x*yp + 4.0*y)/(x**2)])\n",
    "a = math.e**(math.pi/12.0)\n",
    "span_h, u0_h = (a, math.e**math.pi), np.array([0.0, -6.0])\n",
    "exact_h = lambda x: (3.0*math.cos(3.0*math.log(x)) + math.sin(3.0*math.log(x)))/x\n",
    "\n",
    "problems = [\n",
    "    (\"(a)\", f_a, span_a, u0_a, exact_a, \"t\"),\n",
    "    (\"(b)\", f_b, span_b, u0_b, exact_b, \"t\"),\n",
    "    (\"(c)\", f_c, span_c, u0_c, exact_c, \"t\"),\n",
    "    (\"(d)\", f_d, span_d, u0_d, exact_d, \"t\"),\n",
    "    (\"(e)\", f_e, span_e, u0_e, exact_e, \"x\"),\n",
    "    (\"(f)\", f_f, span_f, u0_f, exact_f, \"x\"),\n",
    "    (\"(g)\", f_g, span_g, u0_g, exact_g, \"x\"),\n",
    "    (\"(h)\", f_h, span_h, u0_h, exact_h, \"x\"),\n",
    "]\n",
    "\n",
    "for tag, f, span, u0, exact, xlabel in problems:\n",
    "    t, U = rk4(f, span, u0, n=300)\n",
    "    y = U[:,0] if U.ndim>1 else U\n",
    "    plt.figure(figsize=(6,4))\n",
    "    plt.plot(t, y)\n",
    "    plt.xlabel(xlabel); plt.ylabel('solution')\n",
    "    plt.title(f\"9 {tag} solution (RK4, n=300)\")\n",
    "    plt.grid(True)\n",
    "    plt.show()\n",
    "\n",
    "    nlist = list(range(100, 1001, 100))\n",
    "    errs = solve_and_error_rk4(f, span, u0, exact, nlist)\n",
    "    loglog_with_ref(nlist, errs, slope=4, title=f\"9 {tag} RK4 final-time error vs n\")"
   ]
  },
  {
   "cell_type": "markdown",
   "metadata": {},
   "source": [
    "## Exercise 10 — Do Systems Exercise 6.3.4 with RK4 (replacing `solve`)"
   ]
  },
  {
   "cell_type": "code",
   "execution_count": null,
   "metadata": {},
   "outputs": [],
   "source": [
    "# SIR-like 2D system from the Systems section (Exercise 6.3.4): \n",
    "#   v' = 0.2(1-v) - 3 v w,  w' = (3 v - 1) w,  v(0)=0.95, w(0)=0.05\n",
    "def sir_rhs(t, U):\n",
    "    v, w = U\n",
    "    return np.array([0.2*(1.0 - v) - 3.0*v*w, (3.0*v - 1.0)*w])\n",
    "\n",
    "t, VW = rk4(sir_rhs, (0.0, 200.0), np.array([0.95, 0.05]), n=8000)\n",
    "v, w = VW[:,0], VW[:,1]\n",
    "\n",
    "plt.figure(figsize=(6,4))\n",
    "plt.plot(t, v, label=\"v(t) (susceptible)\")\n",
    "plt.plot(t, w, label=\"w(t) (infectious)\")\n",
    "plt.xlabel(\"t\"); plt.ylabel(\"fraction\"); plt.title(\"Exercise 10: SIR via RK4\")\n",
    "plt.grid(True); plt.legend(); plt.show()\n",
    "\n",
    "print(f\"Approx steady at t={t[-1]:.1f}: v≈{v[-1]:.6f}, w≈{w[-1]:.6f}\")"
   ]
  }
 ],
 "metadata": {
  "kernelspec": {
   "display_name": "torch",
   "language": "python",
   "name": "python3"
  },
  "language_info": {
   "codemirror_mode": {
    "name": "ipython",
    "version": 3
   },
   "file_extension": ".py",
   "mimetype": "text/x-python",
   "name": "python",
   "nbconvert_exporter": "python",
   "pygments_lexer": "ipython3",
   "version": "3.9.23"
  }
 },
 "nbformat": 4,
 "nbformat_minor": 5
}

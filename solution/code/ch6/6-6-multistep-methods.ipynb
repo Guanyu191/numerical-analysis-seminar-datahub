{
 "cells": [
  {
   "cell_type": "markdown",
   "metadata": {},
   "source": [
    "# FNC 6.6 Multistep Methods\n",
    "\n",
    "For each method (AM3, AB3, BD4), compute the **leading term** of the local truncation error using the series approach suggested by Eq. (6.6.5). Then optionally verify the order numerically on a smooth test function.\n",
    "\n",
    "We express a $k$-step method as\n",
    "$$\\sum_j \\alpha_j u_{n+j} - h\\sum_j \\beta_j f_{n+j} = 0,$$\n",
    "and define the single–step **defect**\n",
    "$$R(h)=\\sum_j \\alpha_j u(t_n+jh) - h\\sum_j \\beta_j u'(t_n+jh),\\qquad \\tau(h)=R(h)/h.$$\n"
   ]
  },
  {
   "cell_type": "code",
   "execution_count": 1,
   "metadata": {},
   "outputs": [],
   "source": [
    "\n",
    "from fractions import Fraction\n",
    "from collections import defaultdict\n",
    "from math import factorial\n",
    "\n",
    "def lte_series(alpha, beta, max_order=6):\n",
    "    \"\"\"Return series dict for tau(h)=R(h)/h.\n",
    "    alpha: list[(j,alpha_j)], beta: list[(j,beta_j)], with integer shifts j.\n",
    "    Output: {m: {r: coeff}} such that tau(h) = sum_{m>=0} h^m * sum_r coeff * u^{(r)}(t_n).\n",
    "    \"\"\"\n",
    "    alpha = [(int(j), Fraction(a).limit_denominator()) for j,a in alpha]\n",
    "    beta  = [(int(j), Fraction(b).limit_denominator()) for j,b in beta]\n",
    "    # A_k = sum alpha_j j^k/k!,  B_k = sum beta_j j^k/k!\n",
    "    A = [sum(a * Fraction(j**k, factorial(k)) for j,a in alpha) for k in range(max_order+1)]\n",
    "    B = [sum(b * Fraction(j**k, factorial(k)) for j,b in beta)  for k in range(max_order+1)]\n",
    "    # tau(h) = sum_{k>=0} c_k h^{k-1} A_k - sum_{k>=0} c_{k+1} h^{k} B_k\n",
    "    series = defaultdict(lambda: defaultdict(Fraction))\n",
    "    for k in range(max_order+1):\n",
    "        if k-1 >= 0:\n",
    "            series[k-1][k] += A[k]\n",
    "    for k in range(max_order+1):\n",
    "        series[k][k+1] -= B[k]\n",
    "    # trim zeros\n",
    "    out = {}\n",
    "    for m in sorted(series):\n",
    "        if m < 0: continue\n",
    "        row = {r:series[m][r] for r in series[m] if series[m][r] != 0}\n",
    "        if row: out[m] = row\n",
    "    return out\n",
    "\n",
    "def leading_term(series):\n",
    "    \"\"\"Pick the first nonzero term (smallest m). Return (m, r, coeff).\"\"\"\n",
    "    for m in sorted(series):\n",
    "        r = sorted(series[m])[0]\n",
    "        return m, r, series[m][r]\n",
    "    return None\n",
    "\n",
    "def pretty_series(series, upto=5):\n",
    "    lines = []\n",
    "    for m in sorted(series):\n",
    "        if m>upto: break\n",
    "        terms = \" + \".join([f\"({series[m][r]})*u^{({r})}\" for r in sorted(series[m])])\n",
    "        lines.append(f\"h^{m} * [ {terms} ]\")\n",
    "    return \"\\n\".join(lines)\n"
   ]
  },
  {
   "cell_type": "markdown",
   "metadata": {},
   "source": [
    "## Define the three methods (coefficients)"
   ]
  },
  {
   "cell_type": "code",
   "execution_count": 2,
   "metadata": {},
   "outputs": [
    {
     "name": "stdout",
     "output_type": "stream",
     "text": [
      "AM3: tau(h) leading term  = (-1/24) * h^3 * u^(4)  => defect R(h)=h*tau ~ (-1/24) * h^4 * u^(4)\n",
      "h^3 * [ (-1/24)*u^{4} ] \n",
      "\n",
      "AB3: tau(h) leading term  = (3/8) * h^3 * u^(4)  => defect R(h)=h*tau ~ (3/8) * h^4 * u^(4)\n",
      "h^3 * [ (3/8)*u^{4} ] \n",
      "\n",
      "BD4: tau(h) leading term  = (-1/5) * h^4 * u^(5)  => defect R(h)=h*tau ~ (-1/5) * h^5 * u^(5)\n",
      "h^4 * [ (-1/5)*u^{5} ] \n",
      "\n"
     ]
    }
   ],
   "source": [
    "\n",
    "# AM3: u_{n+1} - u_n = h * (-1/12 f_{n-1} + 2/3 f_n + 5/12 f_{n+1})\n",
    "AM3 = ([(0,-1),(1,1)], [(-1, -Fraction(1,12)), (0, Fraction(2,3)), (1, Fraction(5,12))])\n",
    "\n",
    "# AB3: u_{n+1} - u_n = h * (23/12 f_n - 16/12 f_{n-1} + 5/12 f_{n-2})\n",
    "AB3 = ([(0,-1),(1,1)], [(0, Fraction(23,12)), (-1, -Fraction(16,12)), (-2, Fraction(5,12))])\n",
    "\n",
    "# BD4 (BDF4): 25/12 u_{n+1} - 4 u_n + 3 u_{n-1} - 4/3 u_{n-2} + 1/4 u_{n-3} = h f_{n+1}\n",
    "BD4 = ([(1, Fraction(25,12)), (0, -4), (-1, 3), (-2, -Fraction(4,3)), (-3, Fraction(1,4))], [(1,1)])\n",
    "\n",
    "methods = {\"AM3\": AM3, \"AB3\": AB3, \"BD4\": BD4}\n",
    "for name, (alpha,beta) in methods.items():\n",
    "    ser = lte_series(alpha, beta, max_order=6)\n",
    "    m,r,c = leading_term(ser)\n",
    "    print(f\"{name}: tau(h) leading term  = ({c}) * h^{m} * u^({r})  \"\n",
    "          f\"=> defect R(h)=h*tau ~ ({c}) * h^{m+1} * u^({r})\")\n",
    "    print(pretty_series(ser, upto=m), \"\\n\")\n"
   ]
  },
  {
   "cell_type": "markdown",
   "metadata": {},
   "source": [
    "\n",
    "**Reference values (should match the printout):**  \n",
    "- AM3: $\\tau(h) \\sim -\\tfrac{1}{24} h^{3} u^{(4)}$, i.e. $R(h) \\sim -\\tfrac{1}{24} h^{4} u^{(4)}$ (order 3).  \n",
    "- AB3: $\\tau(h) \\sim +\\tfrac{3}{8} h^{3} u^{(4)}$, i.e. $R(h) \\sim +\\tfrac{3}{8} h^{4} u^{(4)}$ (order 3).  \n",
    "- BD4: $\\tau(h) \\sim -\\tfrac{1}{5} h^{4} u^{(5)}$, i.e. $R(h) \\sim -\\tfrac{1}{5} h^{5} u^{(5)}$ (order 4).\n"
   ]
  },
  {
   "cell_type": "markdown",
   "metadata": {},
   "source": [
    "## Optional: numerical check of the observed order (defect $R(h)$)"
   ]
  },
  {
   "cell_type": "code",
   "execution_count": 3,
   "metadata": {},
   "outputs": [
    {
     "name": "stdout",
     "output_type": "stream",
     "text": [
      "AM3: observed R(h) ~ h^4.990  (expected ~ h^4)\n",
      "AB3: observed R(h) ~ h^4.966  (expected ~ h^4)\n",
      "BD4: observed R(h) ~ h^4.920  (expected ~ h^5)\n"
     ]
    }
   ],
   "source": [
    "\n",
    "import numpy as np, math\n",
    "\n",
    "def defect(alpha, beta, u, up, h):\n",
    "    t0 = 0.0\n",
    "    R = 0.0\n",
    "    for j,a in alpha:\n",
    "        R += float(a) * u(t0 + j*h)\n",
    "    S = 0.0\n",
    "    for j,b in beta:\n",
    "        S += float(b) * up(t0 + j*h)\n",
    "    return abs(R - h*S)\n",
    "\n",
    "def check_order(name, alpha, beta, u, up, hs):\n",
    "    errs = np.array([defect(alpha,beta,u,up,h) for h in hs])\n",
    "    slope = np.polyfit(np.log(hs), np.log(errs), 1)[0]\n",
    "    return slope\n",
    "\n",
    "u = lambda t: math.sin(t)\n",
    "up = lambda t: math.cos(t)\n",
    "\n",
    "hs = np.array([0.8, 0.4, 0.2, 0.1, 0.05])\n",
    "for name,(alpha,beta) in methods.items():\n",
    "    p = check_order(name, alpha,beta,u,up,hs)\n",
    "    print(f\"{name}: observed R(h) ~ h^{p:.3f}  (expected ~ h^{ {'AM3':4, 'AB3':4, 'BD4':5}[name] })\")\n"
   ]
  }
 ],
 "metadata": {
  "kernelspec": {
   "display_name": "torch",
   "language": "python",
   "name": "python3"
  },
  "language_info": {
   "codemirror_mode": {
    "name": "ipython",
    "version": 3
   },
   "file_extension": ".py",
   "mimetype": "text/x-python",
   "name": "python",
   "nbconvert_exporter": "python",
   "pygments_lexer": "ipython3",
   "version": "3.9.23"
  }
 },
 "nbformat": 4,
 "nbformat_minor": 5
}

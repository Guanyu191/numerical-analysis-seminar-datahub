{
 "cells": [
  {
   "cell_type": "markdown",
   "metadata": {},
   "source": [
    "# FNC 6.8 Zero-stability\n",
    "For each multistep method (a)–(f), we check:\n",
    "\n",
    "1. **Consistency (order ≥ 1)**:  \n",
    "   $$\\sum_j \\alpha_j = 0, \\qquad \\sum_j j\\,\\alpha_j = \\sum_j \\beta_j.$$\n",
    "\n",
    "2. **Zero-stability** via the **root condition** for \\(\\rho(z)=\\sum_j \\alpha_j z^j\\):  \n",
    "   all roots satisfy \\(|r|\\le 1\\), and any root with \\(|r|=1\\) is **simple**.\n"
   ]
  },
  {
   "cell_type": "code",
   "execution_count": 4,
   "metadata": {},
   "outputs": [],
   "source": [
    "\n",
    "import numpy as np\n",
    "\n",
    "def consistency_report(alpha, beta, tol=1e-12):\n",
    "    \"\"\"Check Σα=0 and Σ j α_j = Σ β_j.\"\"\"\n",
    "    s0 = sum(alpha.values())\n",
    "    s1 = sum(j*a for j,a in alpha.items())\n",
    "    b0 = sum(beta.values())\n",
    "    ok1 = abs(s0) < tol\n",
    "    ok2 = abs(s1 - b0) < tol\n",
    "    return ok1, ok2, (s0, s1, b0)\n",
    "\n",
    "def rho_poly(alpha):\n",
    "    \"\"\"Return numpy.poly1d for ρ(z)=Σ α_j z^j with nonnegative powers.\"\"\"\n",
    "    if not alpha:\n",
    "        return np.poly1d([0.0])\n",
    "    shifts = list(alpha.keys())\n",
    "    shift_up = -min(shifts) if min(shifts) < 0 else 0\n",
    "    deg = max(shifts) + shift_up\n",
    "    coeffs = np.zeros(deg+1, dtype=float)\n",
    "    for j,a in alpha.items():\n",
    "        # highest degree first\n",
    "        coeffs[deg - (j + shift_up)] += a\n",
    "    return np.poly1d(coeffs)\n",
    "\n",
    "def root_condition(alpha, tol=1e-8):\n",
    "    p = rho_poly(alpha)\n",
    "    roots = np.roots(p)\n",
    "    absr = np.abs(roots)\n",
    "    # max modulus <= 1 (allow tiny numeric slack)\n",
    "    bounded = (absr.max() <= 1.0 + 1e-10) if roots.size else True\n",
    "    # check simplicity on the unit circle\n",
    "    simple = True\n",
    "    for i in range(len(roots)):\n",
    "        if abs(absr[i] - 1.0) < 1e-6:\n",
    "            # multiplicity: count near duplicates\n",
    "            mult = np.sum(np.abs(roots - roots[i]) < 1e-8)\n",
    "            if mult > 1:\n",
    "                simple = False\n",
    "                break\n",
    "    return roots, (bounded and simple)\n"
   ]
  },
  {
   "cell_type": "markdown",
   "metadata": {},
   "source": [
    "## Methods (a)–(f) as `(alpha, beta)` with integer time shifts"
   ]
  },
  {
   "cell_type": "code",
   "execution_count": 5,
   "metadata": {},
   "outputs": [],
   "source": [
    "\n",
    "# (a) BD2: (3/2)u_{i+1} - 2u_i + (1/2)u_{i-1} = h f_{i+1}\n",
    "alpha_a = {1: 1.5, 0: -2.0, -1: 0.5};   beta_a = {1: 1.0}\n",
    "\n",
    "# (b) BD3: (11/6)u_{i+1} - 3u_i + (3/2)u_{i-1} - (1/3)u_{i-2} = h f_{i+1}\n",
    "alpha_b = {1: 11/6, 0: -3.0, -1: 1.5, -2: -1/3};   beta_b = {1: 1.0}\n",
    "\n",
    "# (c) u_{i+1} = u_{i-1} + 2 h f_i\n",
    "alpha_c = {1: 1.0, -1: -1.0};           beta_c = {0: 2.0}\n",
    "\n",
    "# (d) u_{i+1} = -u_i + u_{i-1} + u_{i-2} + (2h/3)(4 f_i + f_{i-1} + f_{i-2})\n",
    "# => u_{i+1} + u_i - u_{i-1} - u_{i-2} - h[(8/3)f_i + (2/3)f_{i-1} + (2/3)f_{i-2}] = 0\n",
    "alpha_d = {1: 1.0, 0: 1.0, -1: -1.0, -2: -1.0};    beta_d = {0: 8/3, -1: 2/3, -2: 2/3}\n",
    "\n",
    "# (e) u_{i+1} = u_{i-3} + (4h/3)(2 f_i - f_{i-1} + 2 f_{i-2})\n",
    "# => u_{i+1} - u_{i-3} - h[(8/3)f_i - (4/3)f_{i-1} + (8/3)f_{i-2}] = 0\n",
    "alpha_e = {1: 1.0, -3: -1.0};           beta_e = {0: 8/3, -1: -4/3, -2: 8/3}\n",
    "\n",
    "# (f) u_{i+1} = -2u_i + 3u_{i-1} + h ( f_{i+1} + 2 f_i + f_{i-1} )\n",
    "# => u_{i+1} + 2u_i - 3u_{i-1} - h( f_{i+1} + 2 f_i + f_{i-1} ) = 0\n",
    "alpha_f = {1: 1.0, 0: 2.0, -1: -3.0};   beta_f = {1: 1.0, 0: 2.0, -1: 1.0}\n",
    "\n",
    "methods = {\n",
    "    \"(a) BD2\": (alpha_a, beta_a),\n",
    "    \"(b) BD3\": (alpha_b, beta_b),\n",
    "    \"(c)\":     (alpha_c, beta_c),\n",
    "    \"(d)\":     (alpha_d, beta_d),\n",
    "    \"(e)\":     (alpha_e, beta_e),\n",
    "    \"(f)\":     (alpha_f, beta_f),\n",
    "}\n"
   ]
  },
  {
   "cell_type": "markdown",
   "metadata": {},
   "source": [
    "## Reports: consistency and zero-stability"
   ]
  },
  {
   "cell_type": "code",
   "execution_count": 6,
   "metadata": {},
   "outputs": [
    {
     "name": "stdout",
     "output_type": "stream",
     "text": [
      "(a) BD2:\n",
      "  Consistency  Σα=0? True   Σ jα = Σβ? True   (sums=(0.0, 1.0, 1.0))\n",
      "  rho(z) roots: [1.       0.333333]\n",
      "  Zero-stable? True\n",
      "(b) BD3:\n",
      "  Consistency  Σα=0? True   Σ jα = Σβ? True   (sums=(-5.551115123125783e-17, 0.9999999999999999, 1.0))\n",
      "  rho(z) roots: [1.      +0.j       0.318182+0.283864j 0.318182-0.283864j]\n",
      "  Zero-stable? True\n",
      "(c):\n",
      "  Consistency  Σα=0? True   Σ jα = Σβ? True   (sums=(0.0, 2.0, 2.0))\n",
      "  rho(z) roots: [-1.  1.]\n",
      "  Zero-stable? True\n",
      "(d):\n",
      "  Consistency  Σα=0? True   Σ jα = Σβ? True   (sums=(0.0, 4.0, 3.9999999999999996))\n",
      "  rho(z) roots: [ 1. -1. -1.]\n",
      "  Zero-stable? False\n",
      "(e):\n",
      "  Consistency  Σα=0? True   Σ jα = Σβ? True   (sums=(0.0, 4.0, 4.0))\n",
      "  rho(z) roots: [-1.+0.j  0.+1.j  0.-1.j  1.+0.j]\n",
      "  Zero-stable? True\n",
      "(f):\n",
      "  Consistency  Σα=0? True   Σ jα = Σβ? True   (sums=(0.0, 4.0, 4.0))\n",
      "  rho(z) roots: [-3.  1.]\n",
      "  Zero-stable? False\n"
     ]
    }
   ],
   "source": [
    "\n",
    "np.set_printoptions(precision=6, suppress=True)\n",
    "for name, (alpha, beta) in methods.items():\n",
    "    ok1, ok2, sums = consistency_report(alpha, beta)\n",
    "    roots, zs = root_condition(alpha)\n",
    "    print(f\"{name}:\")\n",
    "    print(f\"  Consistency  Σα=0? {ok1}   Σ jα = Σβ? {ok2}   (sums={sums})\")\n",
    "    print(f\"  rho(z) roots: {roots}\")\n",
    "    print(f\"  Zero-stable? {zs}\")\n"
   ]
  }
 ],
 "metadata": {
  "kernelspec": {
   "display_name": "torch",
   "language": "python",
   "name": "python3"
  },
  "language_info": {
   "codemirror_mode": {
    "name": "ipython",
    "version": 3
   },
   "file_extension": ".py",
   "mimetype": "text/x-python",
   "name": "python",
   "nbconvert_exporter": "python",
   "pygments_lexer": "ipython3",
   "version": "3.9.23"
  }
 },
 "nbformat": 4,
 "nbformat_minor": 5
}
